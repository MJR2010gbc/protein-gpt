{
 "cells": [
  {
   "cell_type": "code",
   "execution_count": 70,
   "metadata": {
    "_cell_guid": "b1076dfc-b9ad-4769-8c92-a6c4dae69d19",
    "_uuid": "8f2839f25d086af736a60e9eeb907d3b93b6e0e5"
   },
   "outputs": [],
   "source": [
    "import numpy as np\n",
    "import pandas as pd\n",
    "import torch"
   ]
  },
  {
   "cell_type": "code",
   "execution_count": 3,
   "metadata": {},
   "outputs": [],
   "source": [
    "proteins = pd.DataFrame(columns = ['amino acid','gene', 'protein'])"
   ]
  },
  {
   "cell_type": "markdown",
   "metadata": {},
   "source": [
    "### Add Hemoglobin proteins in human body"
   ]
  },
  {
   "cell_type": "code",
   "execution_count": 4,
   "metadata": {},
   "outputs": [],
   "source": [
    "proteins.loc[0] = ['MVHLTPEEKSAVTALWGKVNVDEVGGEALGRLLVVYPWTQRFFESFGDLSTPDAVMGNPK\\\n",
    "VKAHGKKVLGAFSDGLAHLDNLKGTFATLSELHCDKLHVDPENFRLLGNVLVCVLAHHFG\\\n",
    "KEFTPPVQAAYQKVVAGVANALAHKYH', 'HBB', 'Hemoglobin subunit beta']"
   ]
  },
  {
   "cell_type": "code",
   "execution_count": 5,
   "metadata": {},
   "outputs": [],
   "source": [
    "proteins.loc[1] = ['MVHLTPEEKTAVNALWGKVNVDAVGGEALGRLLVVYPWTQRFFESFGDLSSPDAVMGNPK\\\n",
    "VKAHGKKVLGAFSDGLAHLDNLKGTFSQLSELHCDKLHVDPENFRLLGNVLVCVLARNFG\\\n",
    "KEFTPQMQAAYQKVVAGVANALAHKYH', 'HBD', 'Hemoglobin subunit delta']"
   ]
  },
  {
   "cell_type": "code",
   "execution_count": 6,
   "metadata": {},
   "outputs": [],
   "source": [
    "proteins.loc[2] = ['MVHFTAEEKAAVTSLWSKMNVEEAGGEALGRLLVVYPWTQRFFDSFGNLSSPSAILGNPK\\\n",
    "VKAHGKKVLTSFGDAIKNMDNLKPAFAKLSELHCDKLHVDPENFKLLGNVMVIILATHFG\\\n",
    "KEFTPEVQAAWQKLVSAVAIALAHKYH', 'HBE1', 'Hemoglobin subunit epsilon']"
   ]
  },
  {
   "cell_type": "code",
   "execution_count": 7,
   "metadata": {},
   "outputs": [],
   "source": [
    "proteins.loc[3] = ['MSLTKTERTIIVSMWAKISTQADTIGTETLERLFLSHPQTKTYFPHFDLHPGSAQLRAHG\\\n",
    "SKVVAAVGDAVKSIDDIGGALSKLSELHAYILRVDPVNFKLLSHCLLVTLAARFPADFTA\\\n",
    "EAHAAWDKFLSVVSSVLTEKYR', 'HBZ', 'Hemoglobin subunit zeta']"
   ]
  },
  {
   "cell_type": "code",
   "execution_count": 8,
   "metadata": {},
   "outputs": [],
   "source": [
    "proteins.loc[4] = ['MGHFTEEDKATITSLWGKVNVEDAGGETLGRLLVVYPWTQRFFDSFGNLSSASAIMGNPK\\\n",
    "VKAHGKKVLTSLGDAIKHLDDLKGTFAQLSELHCDKLHVDPENFKLLGNVLVTVLAIHFG\\\n",
    "KEFTPEVQASWQKMVTGVASALSSRYH', 'HBG2', 'Hemoglobin subunit gamma-2']"
   ]
  },
  {
   "cell_type": "code",
   "execution_count": 9,
   "metadata": {},
   "outputs": [],
   "source": [
    "proteins.loc[5] = ['MVLSPADKTNVKAAWGKVGAHAGEYGAEALERMFLSFPTTKTYFPHFDLSHGSAQVKGHG\\\n",
    "KKVADALTNAVAHVDDMPNALSALSDLHAHKLRVDPVNFKLLSHCLLVTLAAHLPAEFTP\\\n",
    "AVHASLDKFLASVSTVLTSKYR', 'HBA1', 'Hemoglobin subunit alpha']"
   ]
  },
  {
   "cell_type": "markdown",
   "metadata": {},
   "source": [
    "### Add Insulin proteins in human body"
   ]
  },
  {
   "cell_type": "code",
   "execution_count": 10,
   "metadata": {},
   "outputs": [],
   "source": [
    "proteins.loc[6] = ['MATGGRRGAAAAPLLVAVAALLLGAAGHLYPGEVCPGMDIRNNLTRLHELENCSVIEGHL\\\n",
    "QILLMFKTRPEDFRDLSFPKLIMITDYLLLFRVYGLESLKDLFPNLTVIRGSRLFFNYAL\\\n",
    "VIFEMVHLKELGLYNLMNITRGSVRIEKNNELCYLATIDWSRILDSVEDNYIVLNKDDNE\\\n",
    "ECGDICPGTAKGKTNCPATVINGQFVERCWTHSHCQKVCPTICKSHGCTAEGLCCHSECL\\\n",
    "GNCSQPDDPTKCVACRNFYLDGRCVETCPPPYYHFQDWRCVNFSFCQDLHHKCKNSRRQG\\\n",
    "CHQYVIHNNKCIPECPSGYTMNSSNLLCTPCLGPCPKVCHLLEGEKTIDSVTSAQELRGC\\\n",
    "TVINGSLIINIRGGNNLAAELEANLGLIEEISGYLKIRRSYALVSLSFFRKLRLIRGETL\\\n",
    "EIGNYSFYALDNQNLRQLWDWSKHNLTITQGKLFFHYNPKLCLSEIHKMEEVSGTKGRQE\\\n",
    "RNDIALKTNGDQASCENELLKFSYIRTSFDKILLRWEPYWPPDFRDLLGFMLFYKEAPYQ\\\n",
    "NVTEFDGQDACGSNSWTVVDIDPPLRSNDPKSQNHPGWLMRGLKPWTQYAIFVKTLVTFS\\\n",
    "DERRTYGAKSDIIYVQTDATNPSVPLDPISVSNSSSQIILKWKPPSDPNGNITHYLVFWE\\\n",
    "RQAEDSELFELDYCLKGLKLPSRTWSPPFESEDSQKHNQSEYEDSAGECCSCPKTDSQIL\\\n",
    "KELEESSFRKTFEDYLHNVVFVPRKTSSGTGAEDPRPSRKRRSLGDVGNVTVAVPTVAAF\\\n",
    "PNTSSTSVPTSPEEHRPFEKVVNKESLVISGLRHFTGYRIELQACNQDTPEERCSVAAYV\\\n",
    "SARTMPEAKADDIVGPVTHEIFENNVVHLMWQEPKEPNGLIVLYEVSYRRYGDEELHLCV\\\n",
    "SRKHFALERGCRLRGLSPGNYSVRIRATSLAGNGSWTEPTYFYVTDYLDVPSNIAKIIIG\\\n",
    "PLIFVFLFSVVIGSIYLFLRKRQPDGPLGPLYASSNPEYLSASDVFPCSVYVPDEWEVSR\\\n",
    "EKITLLRELGQGSFGMVYEGNARDIIKGEAETRVAVKTVNESASLRERIEFLNEASVMKG\\\n",
    "FTCHHVVRLLGVVSKGQPTLVVMELMAHGDLKSYLRSLRPEAENNPGRPPPTLQEMIQMA\\\n",
    "AEIADGMAYLNAKKFVHRDLAARNCMVAHDFTVKIGDFGMTRDIYETDYYRKGGKGLLPV\\\n",
    "RWMAPESLKDGVFTTSSDMWSFGVVLWEITSLAEQPYQGLSNEQVLKFVMDGGYLDQPDN\\\n",
    "CPERVTDLMRMCWQFNPKMRPTFLEIVNLLKDDLHPSFPEVSFFHSEENKAPESEELEME\\\n",
    "FEDMENVPLDRSSHCQREEAGGRDGGSSLGFKRSYEEHIPYTHMNGGKKNGRILTLPRSN\\\n",
    "PS', 'INSR', 'Insulin receptor']"
   ]
  },
  {
   "cell_type": "code",
   "execution_count": 11,
   "metadata": {},
   "outputs": [],
   "source": [
    "proteins.loc[6] = ['MRYRLAWLLHPALPSTFRSVLGARLPPPERLCGFQKKTYSKMNNPAIKRIGNHITKSPED\\\n",
    "KREYRGLELANGIKVLLISDPTTDKSSAALDVHIGSLSDPPNIAGLSHFCEHMLFLGTKK\\\n",
    "YPKENEYSQFLSEHAGSSNAFTSGEHTNYYFDVSHEHLEGALDRFAQFFLCPLFDESCKD\\\n",
    "REVNAVDSEHEKNVMNDAWRLFQLEKATGNPKHPFSKFGTGNKYTLETRPNQEGIDVRQE\\\n",
    "LLKFHSAYYSSNLMAVCVLGRESLDDLTNLVVKLFSEVENKNVPLPEFPEHPFQEEHLKQ\\\n",
    "LYKIVPIKDIRNLYVTFPIPDLQKYYKSNPGHYLGHLIGHEGPGSLLSELKSKGWVNTLV\\\n",
    "GGQKEGARGFMFFIINVDLTEEGLLHVEDIILHMFQYIQKLRAEGPQEWVFQECKDLNAV\\\n",
    "AFRFKDKERPRGYTSKIAGILHYYPLEEVLTAEYLLEEFRPDLIEMVLDKLRPENVRVAI\\\n",
    "VSKSFEGKTDRTEEWYGTQYKQEAIPDEVIKKWQNADLNGKFKLPTKNEFIPTNFEILPL\\\n",
    "EKEATPYPALIKDTAMSKLWFKQDDKFFLPKACLNFEFFSPFAYVDPLHCNMAYLYLELL\\\n",
    "KDSLNEYAYAAELAGLSYDLQNTIYGMYLSVKGYNDKQPILLKKIIEKMATFEIDEKRFE\\\n",
    "IIKEAYMRSLNNFRAEQPHQHAMYYLRLLMTEVAWTKDELKEALDDVTLPRLKAFIPQLL\\\n",
    "SRLHIEALLHGNITKQAALGIMQMVEDTLIEHAHTKPLLPSQLVRYREVQLPDRGWFVYQ\\\n",
    "QRNEVHNNCGIEIYYQTDMQSTSENMFLELFCQIISEPCFNTLRTKEQLGYIVFSGPRRA\\\n",
    "NGIQGLRFIIQSEKPPHYLESRVEAFLITMEKSIEDMTEEAFQKHIQALAIRRLDKPKKL\\\n",
    "SAECAKYWGEIISQQYNFDRDNTEVAYLKTLTKEDIIKFYKEMLAVDAPRRHKVSVHVLA\\\n",
    "REMDSCPVVGEFPCQNDINLSQAPALPQPEVIQNMTEFKRGLPLFPLVKPHINFMAAKL', 'IDE', 'Insulin-degrading enzyme']"
   ]
  },
  {
   "cell_type": "code",
   "execution_count": 12,
   "metadata": {},
   "outputs": [],
   "source": [
    "proteins.loc[7] = ['MALWMRLLPLLALLALWGPDPAAAFVNQHLCGSHLVEALYLVCGERGFFYTPKTRREAED\\\n",
    "LQVGQVELGGGPGAGSLQPLALEGSLQKRGIVEQCCTSICSLYQLENYCN', 'INS', 'Insulin']"
   ]
  },
  {
   "cell_type": "code",
   "execution_count": 13,
   "metadata": {},
   "outputs": [],
   "source": [
    "proteins.loc[7] = ['MALWMRLLPLLALLALWGPDPAAAFVNQHLCGSHLVEALYLVCGERGFFYTPKTRREAED\\\n",
    "LQVGQVELGGGPGAGSLQPLALEGSLQKRGIVEQCCTSICSLYQLENYCN', 'INS', 'Insulin']"
   ]
  },
  {
   "cell_type": "markdown",
   "metadata": {},
   "source": [
    "### Add Actin proteins in human body"
   ]
  },
  {
   "cell_type": "code",
   "execution_count": 14,
   "metadata": {},
   "outputs": [],
   "source": [
    "proteins.loc[7] = ['MAPHRPAPALLCALSLALCALSLPVRAATASRGASQAGAPQGRVPEARPNSMVVEHPEFL\\\n",
    "KAGKEPGLQIWRVEKFDLVPVPTNLYGDFFTGDAYVILKTVQLRNGNLQYDLHYWLGNEC\\\n",
    "SQDESGAAAIFTVQLDDYLNGRAVQHREVQGFESATFLGYFKSGLKYKKGGVASGFKHVV\\\n",
    "PNEVVVQRLFQVKGRRVVRATEVPVSWESFNNGDCFILDLGNNIHQWCGSNSNRYERLKA\\\n",
    "TQVSKGIRDNERSGRARVHVSEEGTEPEAMLQVLGPKPALPAGTEDTAKEDAANRKLAKL\\\n",
    "YKVSNGAGTMSVSLVADENPFAQGALKSEDCFILDHGKDGKIFVWKGKQANTEERKAALK\\\n",
    "TASDFITKMDYPKQTQVSVLPEGGETPLFKQFFKNWRDPDQTDGLGLSYLSSHIANVERV\\\n",
    "PFDAATLHTSTAMAAQHGMDDDGTGQKQIWRIEGSNKVPVDPATYGQFYGGDSYIILYNY\\\n",
    "RHGGRQGQIIYNWQGAQSTQDEVAASAILTAQLDEELGGTPVQSRVVQGKEPAHLMSLFG\\\n",
    "GKPMIIYKGGTSREGGQTAPASTRLFQVRANSAGATRAVEVLPKAGALNSNDAFVLKTPS\\\n",
    "AAYLWVGTGASEAEKTGAQELLRVLRAQPVQVAEGSEPDGFWEALGGKAAYRTSPRLKDK\\\n",
    "KMDAHPPRLFACSNKIGRFVIEEVPGELMQEDLATDDVMLLDTWDQVFVWVGKDSQEEEK\\\n",
    "TEALTSAKRYIETDPANRDRRTPITVVKQGFEPPSFVGWFLGWDDDYWSVDPLDRAMAEL\\\n",
    "AA', 'GSN', 'Gelsolin']"
   ]
  },
  {
   "cell_type": "code",
   "execution_count": 15,
   "metadata": {},
   "outputs": [],
   "source": [
    "proteins.loc[8] = ['MEEVPGDALCEHFEANILTQNRCQNCFHPEEAHGARYQELRSPSGAEVPYCDLPRCPPAP\\\n",
    "EDPLSASTSGCQSVVDPGLRPGPKRGPSPSAGLPEEGPTAAPRSRSRELEAVPYLEGLTT\\\n",
    "SLCGSCNEDPGSDPTSSPDSATPDDTSNSSSVDWDTVERQEEEAPSWDELAVMIPRRPRE\\\n",
    "GPRADSSQRAPSLLTRSPVGGDAAGQKKEDTGGGGRSAGQHWARLRGESGLSLERHRSTL\\\n",
    "TQASSMTPHSGPRSTTSQASPAQRDTAQAASTREIPRASSPHRITQRDTSRASSTQQEIS\\\n",
    "RASSTQQETSRASSTQEDTPRASSTQEDTPRASSTQWNTPRASSPSRSTQLDNPRTSSTQ\\\n",
    "QDNPQTSFPTCTPQRENPRTPCVQQDDPRASSPNRTTQRENSRTSCAQRDNPKASRTSSP\\\n",
    "NRATRDNPRTSCAQRDNPRASSPSRATRDNPTTSCAQRDNPRASRTSSPNRATRDNPRTS\\\n",
    "CAQRDNPRASSPSRATRDNPTTSCAQRDNPRASRTSSPNRATRDNPRTSCAQRDNPRASS\\\n",
    "PNRAARDNPTTSCAQRDNPRASRTSSPNRATRDNPRTSCAQRDNPRASSPNRATRDNPTT\\\n",
    "SCAQRDNPRASRTSSPNRATRDNPRTSCAQRDNPRASSPNRTTQQDSPRTSCARRDDPRA\\\n",
    "SSPNRTIQQENPRTSCALRDNPRASSPSRTIQQENPRTSCAQRDDPRASSPNRTTQQENP\\\n",
    "RTSCARRDNPRASSRNRTIQRDNPRTSCAQRDNPRASSPNRTIQQENLRTSCTRQDNPRT\\\n",
    "SSPNRATRDNPRTSCAQRDNLRASSPIRATQQDNPRTCIQQNIPRSSSTQQDNPKTSCTK\\\n",
    "RDNLRPTCTQRDRTQSFSFQRDNPGTSSSQCCTQKENLRPSSPHRSTQWNNPRNSSPHRT\\\n",
    "NKDIPWASFPLRPTQSDGPRTSSPSRSKQSEVPWASIALRPTQGDRPQTSSPSRPAQHDP\\\n",
    "PQSSFGPTQYNLPSRATSSSHNPGHQSTSRTSSPVYPAAYGAPLTSPEPSQPPCAVCIGH\\\n",
    "RDAPRASSPPRYLQHDPFPFFPEPRAPESEPPHHEPPYIPPAVCIGHRDAPRASSPPRHT\\\n",
    "QFDPFPFLPDTSDAEHQCQSPQHEPLQLPAPVCIGYRDAPRASSPPRQAPEPSLLFQDLP\\\n",
    "RASTESLVPSMDSLHECPHIPTPVCIGHRDAPSFSSPPRQAPEPSLFFQDPPGTSMESLA\\\n",
    "PSTDSLHGSPVLIPQVCIGHRDAPRASSPPRHPPSDLAFLAPSPSPGSSGGSRGSAPPGE\\\n",
    "TRHNLEREEYTVLADLPPPRRLAQRQPGPQAQCSSGGRTHSPGRAEVERLFGQERRKSEA\\\n",
    "AGAFQAQDEGRSQQPSQGQSQLLRRQSSPAPSRQVTMLPAKQAELTRRSQAEPPHPWSPE\\\n",
    "KRPEGDRQLQGSPLPPRTSARTPERELRTQRPLESGQAGPRQPLGVWQSQEEPPGSQGPH\\\n",
    "RHLERSWSSQEGGLGPGGWWGCGEPSLGAAKAPEGAWGGTSREYKESWGQPEAWEEKPTH\\\n",
    "ELPRELGKRSPLTSPPENWGGPAESSQSWHSGTPTAVGWGAEGACPYPRGSERRPELDWR\\\n",
    "DLLGLLRAPGEGVWARVPSLDWEGLLELLQARLPRKDPAGHRDDLARALGPELGPPGTND\\\n",
    "VPEQESHSQPEGWAEATPVNGHSPALQSQSPVQLPSPACTSTQWPKIKVTRGPATATLAG\\\n",
    "LEQTGPLGSRSTAKGPSLPELQFQPEEPEESEPSRGQDPLTDQKQADSADKRPAEGKAGS\\\n",
    "PLKGRLVTSWRMPGDRPTLFNPFLLSLGVLRWRRPDLLNFKKGWMSILDEPGEPPSPSLT\\\n",
    "TTSTSQWKKHWFVLTDSSLKYYRDSTAEEADELDGEIDLRSCTDVTEYAVQRNYGFQIHT\\\n",
    "KDAVYTLSAMTSGIRRNWIEALRKTVRPTSAPDVTKLSDSNKENALHSYSTQKGPLKAGE\\\n",
    "QRAGSEVISRGGPRKADGQRQALDYVELSPLTQASPQRARTPARTPDRLAKQEELERDLA\\\n",
    "QRSEERRKWFEATDSRTPEVPAGEGPRRGLGAPLTEDQQNRLSEEIEKKWQELEKLPLRE\\\n",
    "NKRVPLTALLNQSRGERRGPPSDGHEALEKEVQALRAQLEAWRLQGEAPQSALRSQEDGH\\\n",
    "IPPGYISQEACERSLAEMESSHQQVMEELQRHHERELQRLQQEKEWLLAEETAATASAIE\\\n",
    "AMKKAYQEELSRELSKTRSLQQGPDGLRKQHQSDVEALKRELQVLSEQYSQKCLEIGALM\\\n",
    "RQAEEREHTLRRCQQEGQELLRHNQELHGRLSEEIDQLRGFIASQGMGNGCGRSNERSSC\\\n",
    "ELEVLLRVKENELQYLKKEVQCLRDELQMMQKDKRFTSGKYQDVYVELSHIKTRSEREIE\\\n",
    "QLKEHLRLAMAALQEKESMRNSLAE', 'TRIOBP', 'TRIO and F-actin-binding protein']"
   ]
  },
  {
   "cell_type": "code",
   "execution_count": 16,
   "metadata": {},
   "outputs": [],
   "source": [
    "proteins.loc[9] = ['MGKKSRVKTQKSGTGATATVSPKEILNLTSELLQKCSSPAPGPGKEWEEYVQIRTLVEKI\\\n",
    "RKKQKGLSVTFDGKREDYFPDLMKWASENGASVEGFEMVNFKEEGFGLRATRDIKAEELF\\\n",
    "LWVPRKLLMTVESAKNSVLGPLYSQDRILQAMGNIALAFHLLCERASPNSFWQPYIQTLP\\\n",
    "SEYDTPLYFEEDEVRYLQSTQAIHDVFSQYKNTARQYAYFYKVIQTHPHANKLPLKDSFT\\\n",
    "YEDYRWAVSSVMTRQNQIPTEDGSRVTLALIPLWDMCNHTNGLITTGYNLEDDRCECVAL\\\n",
    "QDFRAGEQIYIFYGTRSNAEFVIHSGFFFDNNSHDRVKIKLGVSKSDRLYAMKAEVLARA\\\n",
    "GIPTSSVFALHFTEPPISAQLLAFLRVFCMTEEELKEHLLGDSAIDRIFTLGNSEFPVSW\\\n",
    "DNEVKLWTFLEDRASLLLKTYKTTIEEDKSVLKNHDLSVRAKMAIKLRLGEKEILEKAVK\\\n",
    "SAAVNREYYRQQMEEKAPLPKYEESNLGLLESSVGDSRLPLVLRNLEEEAGVQDALNIRE\\\n",
    "AISKAKATENGLVNGENSIPNGTRSENESLNQESKRAVEDAKGSSSDSTAGVKE', 'SETD3', 'Actin-histidine N-methyltransferase']"
   ]
  },
  {
   "cell_type": "code",
   "execution_count": 17,
   "metadata": {},
   "outputs": [],
   "source": [
    "proteins.loc[10] = ['MDDDIAALVVDNGSGMCKAGFAGDDAPRAVFPSIVGRPRHQGVMVGMGQKDSYVGDEAQS\\\n",
    "KRGILTLKYPIEHGIVTNWDDMEKIWHHTFYNELRVAPEEHPVLLTEAPLNPKANREKMT\\\n",
    "QIMFETFNTPAMYVAIQAVLSLYASGRTTGIVMDSGDGVTHTVPIYEGYALPHAILRLDL\\\n",
    "AGRDLTDYLMKILTERGYSFTTTAEREIVRDIKEKLCYVALDFEQEMATAASSSSLEKSY\\\n",
    "ELPDGQVITIGNERFRCPEALFQPSFLGMESCGIHETTFNSIMKCDVDIRKDLYANTVLS\\\n",
    "GGTTMYPGIADRMQKEITALAPSTMKIKIIAPPERKYSVWIGGSILASLSTFQQMWISKQ\\\n",
    "EYDESGPSIVHRKCF', 'ACTB', 'cytoplasmic 1']"
   ]
  },
  {
   "cell_type": "code",
   "execution_count": 18,
   "metadata": {},
   "outputs": [],
   "source": [
    "proteins.loc[11] = ['MEEEIAALVIDNGSGMCKAGFAGDDAPRAVFPSIVGRPRHQGVMVGMGQKDSYVGDEAQS\\\n",
    "KRGILTLKYPIEHGIVTNWDDMEKIWHHTFYNELRVAPEEHPVLLTEAPLNPKANREKMT\\\n",
    "QIMFETFNTPAMYVAIQAVLSLYASGRTTGIVMDSGDGVTHTVPIYEGYALPHAILRLDL\\\n",
    "AGRDLTDYLMKILTERGYSFTTTAEREIVRDIKEKLCYVALDFEQEMATAASSSSLEKSY\\\n",
    "ELPDGQVITIGNERFRCPEALFQPSFLGMESCGIHETTFNSIMKCDVDIRKDLYANTVLS\\\n",
    "GGTTMYPGIADRMQKEITALAPSTMKIKIIAPPERKYSVWIGGSILASLSTFQQMWISKQ\\\n",
    "EYDESGPSIVHRKCF', 'ACTG1', 'cytoplasmic 2']"
   ]
  },
  {
   "cell_type": "code",
   "execution_count": 19,
   "metadata": {},
   "outputs": [],
   "source": [
    "proteins.loc[12] = ['MTSPCSPPLKPPISPPKTPVPQASSIPSPPLPPSPLDFSALPSPPWSQQTPVPPPLPLPP\\\n",
    "PPAATGPAPRHVFGLEKSQLLKEAFDKAGPVPKGREDVKRLLKLHKDRFRGDLRWILFCA\\\n",
    "DLPSLIQEGPQCGLVALWMAGTLLSPPSGVPLERLIRVATERGYTAQGEMFSVADMGRLA\\\n",
    "QEVLGCQAKLLSGGLGGPNRDLVLQHLVTGHPLLIPYDEDFNHEPCQRKGHKAHWAVSAG\\\n",
    "VLLGVRAVPSLGYTEDPELPGLFHPVLGTPCQPPSLPEEGSPGAVYLLSKQGKSWHYQLW\\\n",
    "DYDQVRESNLQLTDFSPSRATDGRVYVVPVGGVRAGLCGQALLLTPQDCSH', 'ACTMAP', 'Actin maturation protease']"
   ]
  },
  {
   "cell_type": "markdown",
   "metadata": {},
   "source": [
    "### Add Histones proteins in human body"
   ]
  },
  {
   "cell_type": "code",
   "execution_count": 20,
   "metadata": {},
   "outputs": [],
   "source": [
    "proteins.loc[13] = ['MDISTRSKDPGSAERTAQKRKFPSPPHSSNGHSPQDTSTSPIKKKKKPGLLNSNNKEQSE\\\n",
    "LRHGPFYYMKQPLTTDPVDVVPQDGRNDFYCWVCHREGQVLCCELCPRVYHAKCLRLTSE\\\n",
    "PEGDWFCPECEKITVAECIETQSKAMTMLTIEQLSYLLKFAIQKMKQPGTDAFQKPVPLE\\\n",
    "QHPDYAEYIFHPMDLCTLEKNAKKKMYGCTEAFLADAKWILHNCIIYNGGNHKLTQIAKV\\\n",
    "VIKICEHEMNEIEVCPECYLAACQKRDNWFCEPCSNPHPLVWAKLKGFPFWPAKALRDKD\\\n",
    "GQVDARFFGQHDRAWVPINNCYLMSKEIPFSVKKTKSIFNSAMQEMEVYVENIRRKFGVF\\\n",
    "NYSPFRTPYTPNSQYQMLLDPTNPSAGTAKIDKQEKVKLNFDMTASPKILMSKPVLSGGT\\\n",
    "GRRISLSDMPRSPMSTNSSVHTGSDVEQDAEKKATSSHFSASEESMDFLDKSTASPASTK\\\n",
    "TGQAGSLSGSPKPFSPQLSAPITTKTDKTSTTGSILNLNLDRSKAEMDLKELSESVQQQS\\\n",
    "TPVPLISPKRQIRSRFQLNLDKTIESCKAQLGINEISEDVYTAVEHSDSEDSEKSDSSDS\\\n",
    "EYISDDEQKSKNEPEDTEDKEGCQMDKEPSAVKKKPKPTNPVEIKEELKSTSPASEKADP\\\n",
    "GAVKDKASPEPEKDFSEKAKPSPHPIKDKLKGKDETDSPTVHLGLDSDSESELVIDLGED\\\n",
    "HSGREGRKNKKEPKEPSPKQDVVGKTPPSTTVGSHSPPETPVLTRSSAQTSAAGATATTS\\\n",
    "TSSTVTVTAPAPAATGSPVKKQRPLLPKETAPAVQRVVWNSSSKFQTSSQKWHMQKMQRQ\\\n",
    "QQQQQQQNQQQQPQSSQGTRYQTRQAVKAVQQKEITQSPSTSTITLVTSTQSSPLVTSSG\\\n",
    "SMSTLVSSVNADLPIATASADVAADIAKYTSKMMDAIKGTMTEIYNDLSKNTTGSTIAEI\\\n",
    "RRLRIEIEKLQWLHQQELSEMKHNLELTMAEMRQSLEQERDRLIAEVKKQLELEKQQAVD\\\n",
    "ETKKKQWCANCKKEAIFYCCWNTSYCDYPCQQAHWPEHMKSCTQSATAPQQEADAEVNTE\\\n",
    "TLNKSSQGSSSSTQSAPSETASASKEKETSAEKSKESGSTLDLSGSRETPSSILLGSNQG\\\n",
    "SDHSRSNKSSWSSSDEKRGSTRSDHNTSTSTKSLLPKESRLDTFWD', 'ZMYND8', 'MYND-type zinc finger-containing chromatin reader ZMYND8']"
   ]
  },
  {
   "cell_type": "code",
   "execution_count": 21,
   "metadata": {},
   "outputs": [],
   "source": [
    "proteins.loc[14] = ['MAESSESFTMASSPAQRRRGNDPLTSSPGRSSRRTDALTSSPGRDLPPFEDESEGLLGTE\\\n",
    "GPLEEEEDGEELIGDGMERDYRAIPELDAYEAEGLALDDEDVEELTASQREAAERAMRQR\\\n",
    "DREAGRGLGRMRRGLLYDSDEEDEERPARKRRQVERATEDGEEDEEMIESIENLEDLKGH\\\n",
    "SVREWVSMAGPRLEIHHRFKNFLRTHVDSHGHNVFKERISDMCKENRESLVVNYEDLAAR\\\n",
    "EHVLAYFLPEAPAELLQIFDEAALEVVLAMYPKYDRITNHIHVRISHLPLVEELRSLRQL\\\n",
    "HLNQLIRTSGVVTSCTGVLPQLSMVKYNCNKCNFVLGPFCQSQNQEVKPGSCPECQSAGP\\\n",
    "FEVNMEETIYQNYQRIRIQESPGKVAAGRLPRSKDAILLADLVDSCKPGDEIELTGIYHN\\\n",
    "NYDGSLNTANGFPVFATVILANHVAKKDNKVAVGELTDEDVKMITSLSKDQQIGEKIFAS\\\n",
    "IAPSIYGHEDIKRGLALALFGGEPKNPGGKHKVRGDINVLLCGDPGTAKSQFLKYIEKVS\\\n",
    "SRAIFTTGQGASAVGLTAYVQRHPVSREWTLEAGALVLADRGVCLIDEFDKMNDQDRTSI\\\n",
    "HEAMEQQSISISKAGIVTSLQARCTVIAAANPIGGRYDPSLTFSENVDLTEPIISRFDIL\\\n",
    "CVVRDTVDPVQDEMLARFVVGSHVRHHPSNKEEEGLANGSAAEPAMPNTYGVEPLPQEVL\\\n",
    "KKYIIYAKERVHPKLNQMDQDKVAKMYSDLRKESMATGSIPITVRHIESMIRMAEAHARI\\\n",
    "HLRDYVIEDDVNMAIRVMLESFIDTQKFSVMRSMRKTFARYLSFRRDNNELLLFILKQLV\\\n",
    "AEQVTYQRNRFGAQQDTIEVPEKDLVDKARQINIHNLSAFYDSELFRMNKFSHDLKRKMI\\\n",
    "LQQF', 'MCM2', 'DNA replication licensing factor MCM2']"
   ]
  },
  {
   "cell_type": "code",
   "execution_count": 22,
   "metadata": {},
   "outputs": [],
   "source": [
    "proteins.loc[15] = ['MAKVQVNNVVVLDNPSPFYNPFQFEITFECIEDLSEDLEWKIIYVGSAESEEYDQVLDSV\\\n",
    "LVGPVPAGRHMFVFQADAPNPGLIPDADAVGVTVVLITCTYRGQEFIRVGYYVNNEYTET\\\n",
    "ELRENPPVKPDFSKLQRNILASNPRVTRFHINWEDNTEKLEDAESSNPNLQSLLSTDALP\\\n",
    "SASKGWSTSENSLNVMLESHMDCM', 'ASF1A', 'Histone chaperone ASF1A']"
   ]
  },
  {
   "cell_type": "code",
   "execution_count": 23,
   "metadata": {},
   "outputs": [],
   "source": [
    "proteins.loc[16] = ['MSGGFELQPRDGGPRVALAPGETVIGRGPLLGITDKRVSRRHAILEVAGGQLRIKPIHTN\\\n",
    "PCFYQSSEKSQLLPLKPNLWCYLNPGDSFSLLVDKYIFRILSIPSEVEMQCTLRNSQVLD\\\n",
    "EDNILNETPKSPVINLPHETTGASQLEGSTEIAKTQMTPTNSVSFLGENRDCNKQQPILA\\\n",
    "ERKRILPTWMLAEHLSDQNLSVPAISGGNVIQGSGKEEICKDKSQLNTTQQGRRQLISSG\\\n",
    "SSENTSAEQDTGEECKNTDQEESTISSKEMPQSFSAITLSNTEMNNIKTNAQRNKLPIEE\\\n",
    "LGKVSKHKIATKRTPHKEDEAMSCSENCSSAQGDSLQDESQGSHSESSSNPSNPETLHAK\\\n",
    "ATDSVLQGSEGNKVKRTSCMYGANCYRKNPVHFQHFSHPGDSDYGGVQIVGQDETDDRPE\\\n",
    "CPYGPSCYRKNPQHKIEYRHNTLPVRNVLDEDNDNVGQPNEYDLNDSFLDDEEEDYEPTD\\\n",
    "EDSDWEPGKEDEEKEDVEELLKEAKRFMKRK', 'APLF', 'Aprataxin and PNK-like factor']"
   ]
  },
  {
   "cell_type": "code",
   "execution_count": 24,
   "metadata": {},
   "outputs": [],
   "source": [
    "proteins.loc[17] = ['MAKVSVLNVAVLENPSPFHSPFRFEISFECSEALADDLEWKIIYVGSAESEEFDQILDSV\\\n",
    "LVGPVPAGRHMFVFQADAPNPSLIPETDAVGVTVVLITCTYHGQEFIRVGYYVNNEYLNP\\\n",
    "ELRENPPMKPDFSQLQRNILASNPRVTRFHINWDNNMDRLEAIETQDPSLGCGLPLNCTP\\\n",
    "IKGLGLPGCIPGLLPENSMDCI', 'ASF1B', 'Histone chaperone ASF1B']"
   ]
  },
  {
   "cell_type": "code",
   "execution_count": 25,
   "metadata": {},
   "outputs": [],
   "source": [
    "proteins.loc[18] = ['MGLLDLCEEVFGTADLYRVLGVRREASDGEVRRGYHKVSLQVHPDRVGEGDKEDATRRFQ\\\n",
    "ILGKVYSVLSDREQRAVYDEQGTVDEDSPVLTQDRDWEAYWRLLFKKISLEDIQAFEKTY\\\n",
    "KGSEEELADIKQAYLDFKGDMDQIMESVLCVQYTEEPRIRNIIQQAIDAGEVPSYNAFVK\\\n",
    "ESKQKMNARKRRAQEEAKEAEMSRKELGLDEGVDSLKAAIQSRQKDRQKEMDNFLAQMEA\\\n",
    "KYCKSSKGGGKKSALKKEKK', 'DNAJC9', 'DnaJ homolog subfamily C member 9']"
   ]
  },
  {
   "cell_type": "code",
   "execution_count": 26,
   "metadata": {
    "tags": []
   },
   "outputs": [
    {
     "data": {
      "text/html": [
       "<div>\n",
       "<style scoped>\n",
       "    .dataframe tbody tr th:only-of-type {\n",
       "        vertical-align: middle;\n",
       "    }\n",
       "\n",
       "    .dataframe tbody tr th {\n",
       "        vertical-align: top;\n",
       "    }\n",
       "\n",
       "    .dataframe thead th {\n",
       "        text-align: right;\n",
       "    }\n",
       "</style>\n",
       "<table border=\"1\" class=\"dataframe\">\n",
       "  <thead>\n",
       "    <tr style=\"text-align: right;\">\n",
       "      <th></th>\n",
       "      <th>amino acid</th>\n",
       "      <th>gene</th>\n",
       "      <th>protein</th>\n",
       "    </tr>\n",
       "  </thead>\n",
       "  <tbody>\n",
       "    <tr>\n",
       "      <th>0</th>\n",
       "      <td>MVHLTPEEKSAVTALWGKVNVDEVGGEALGRLLVVYPWTQRFFESF...</td>\n",
       "      <td>HBB</td>\n",
       "      <td>Hemoglobin subunit beta</td>\n",
       "    </tr>\n",
       "    <tr>\n",
       "      <th>1</th>\n",
       "      <td>MVHLTPEEKTAVNALWGKVNVDAVGGEALGRLLVVYPWTQRFFESF...</td>\n",
       "      <td>HBD</td>\n",
       "      <td>Hemoglobin subunit delta</td>\n",
       "    </tr>\n",
       "    <tr>\n",
       "      <th>2</th>\n",
       "      <td>MVHFTAEEKAAVTSLWSKMNVEEAGGEALGRLLVVYPWTQRFFDSF...</td>\n",
       "      <td>HBE1</td>\n",
       "      <td>Hemoglobin subunit epsilon</td>\n",
       "    </tr>\n",
       "    <tr>\n",
       "      <th>3</th>\n",
       "      <td>MSLTKTERTIIVSMWAKISTQADTIGTETLERLFLSHPQTKTYFPH...</td>\n",
       "      <td>HBZ</td>\n",
       "      <td>Hemoglobin subunit zeta</td>\n",
       "    </tr>\n",
       "    <tr>\n",
       "      <th>4</th>\n",
       "      <td>MGHFTEEDKATITSLWGKVNVEDAGGETLGRLLVVYPWTQRFFDSF...</td>\n",
       "      <td>HBG2</td>\n",
       "      <td>Hemoglobin subunit gamma-2</td>\n",
       "    </tr>\n",
       "  </tbody>\n",
       "</table>\n",
       "</div>"
      ],
      "text/plain": [
       "                                          amino acid  gene  \\\n",
       "0  MVHLTPEEKSAVTALWGKVNVDEVGGEALGRLLVVYPWTQRFFESF...   HBB   \n",
       "1  MVHLTPEEKTAVNALWGKVNVDAVGGEALGRLLVVYPWTQRFFESF...   HBD   \n",
       "2  MVHFTAEEKAAVTSLWSKMNVEEAGGEALGRLLVVYPWTQRFFDSF...  HBE1   \n",
       "3  MSLTKTERTIIVSMWAKISTQADTIGTETLERLFLSHPQTKTYFPH...   HBZ   \n",
       "4  MGHFTEEDKATITSLWGKVNVEDAGGETLGRLLVVYPWTQRFFDSF...  HBG2   \n",
       "\n",
       "                      protein  \n",
       "0     Hemoglobin subunit beta  \n",
       "1    Hemoglobin subunit delta  \n",
       "2  Hemoglobin subunit epsilon  \n",
       "3     Hemoglobin subunit zeta  \n",
       "4  Hemoglobin subunit gamma-2  "
      ]
     },
     "execution_count": 26,
     "metadata": {},
     "output_type": "execute_result"
    }
   ],
   "source": [
    "proteins.head()"
   ]
  },
  {
   "cell_type": "code",
   "execution_count": 31,
   "metadata": {},
   "outputs": [],
   "source": [
    "def get_aa_seq(aa_col):\n",
    "    '''\n",
    "    function to get the sequence of amino acids which proteins in human body are made by\n",
    "    input: the column of amino acids\n",
    "    output: string of concatanation of all sequences of amino acids\n",
    "    '''\n",
    "    aa_seq = ''\n",
    "    for each_aa in aa_col:\n",
    "        aa_seq += each_aa\n",
    "    return aa_seq"
   ]
  },
  {
   "cell_type": "code",
   "execution_count": 35,
   "metadata": {},
   "outputs": [
    {
     "data": {
      "text/plain": [
       "10000"
      ]
     },
     "execution_count": 35,
     "metadata": {},
     "output_type": "execute_result"
    }
   ],
   "source": [
    "aa_seq = get_aa_seq(proteins['amino acid']) #concatante all sequences of amino acids as a string object\n",
    "len(aa_seq) #length of data(string sequence of amino acids)"
   ]
  },
  {
   "cell_type": "code",
   "execution_count": 96,
   "metadata": {},
   "outputs": [],
   "source": [
    "#charachter level\n",
    "chars = sorted(list(set(aa_seq))) #each unique character in the string data(sequence of amino acids)\n",
    "vocab_size = len(chars) #the length of unique characters"
   ]
  },
  {
   "cell_type": "code",
   "execution_count": 98,
   "metadata": {},
   "outputs": [
    {
     "data": {
      "text/plain": [
       "{'A': 0,\n",
       " 'C': 1,\n",
       " 'D': 2,\n",
       " 'E': 3,\n",
       " 'F': 4,\n",
       " 'G': 5,\n",
       " 'H': 6,\n",
       " 'I': 7,\n",
       " 'K': 8,\n",
       " 'L': 9,\n",
       " 'M': 10,\n",
       " 'N': 11,\n",
       " 'P': 12,\n",
       " 'Q': 13,\n",
       " 'R': 14,\n",
       " 'S': 15,\n",
       " 'T': 16,\n",
       " 'V': 17,\n",
       " 'W': 18,\n",
       " 'Y': 19}"
      ]
     },
     "execution_count": 98,
     "metadata": {},
     "output_type": "execute_result"
    }
   ],
   "source": [
    "#character level tokenization. encoder and decoder\n",
    "chtoi = {char: ind for ind, char in enumerate(chars)} #character to integer\n",
    "itoch = {ind:char for ind, char in enumerate(chars)} #integer to character\n",
    "encode = lambda text: [chtoi[char] for char in text] #encoder function\n",
    "decode = lambda en_list: ''.join(itoch[integer] for integer in en_list) #decoder function\n",
    "chtoi"
   ]
  },
  {
   "cell_type": "code",
   "execution_count": 167,
   "metadata": {},
   "outputs": [],
   "source": [
    "tokenize_data = torch.tensor(encode(aa_seq), dtype = torch.int64) #store encoded data(string sequence of amino acids) into a tensor"
   ]
  },
  {
   "cell_type": "code",
   "execution_count": 168,
   "metadata": {},
   "outputs": [],
   "source": [
    "#split data to train and validation set\n",
    "train_len = int(len(data)*0.9)\n",
    "train_set = tokenize_data[:train_len] #90% of data -> train set\n",
    "valid_set = tokenize_data[train_len:] #10% of data -> validation set"
   ]
  },
  {
   "cell_type": "code",
   "execution_count": 169,
   "metadata": {},
   "outputs": [],
   "source": [
    "#the length of chunk of data that we train the model with everytime\n",
    "block_size = 8\n",
    "input_data = train_set[0:block_size] #input data, chunk of the data with the length of block_size\n",
    "pos_out = train_set[1:block_size+1] #possible outcome for each of the tokens in the input data"
   ]
  },
  {
   "cell_type": "code",
   "execution_count": null,
   "metadata": {},
   "outputs": [],
   "source": []
  },
  {
   "cell_type": "code",
   "execution_count": null,
   "metadata": {},
   "outputs": [],
   "source": []
  }
 ],
 "metadata": {
  "kernelspec": {
   "display_name": "gpt-protein",
   "language": "python",
   "name": "gpt-protein"
  },
  "language_info": {
   "codemirror_mode": {
    "name": "ipython",
    "version": 3
   },
   "file_extension": ".py",
   "mimetype": "text/x-python",
   "name": "python",
   "nbconvert_exporter": "python",
   "pygments_lexer": "ipython3",
   "version": "3.8.10"
  }
 },
 "nbformat": 4,
 "nbformat_minor": 4
}
