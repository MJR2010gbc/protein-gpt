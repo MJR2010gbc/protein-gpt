{
  "cells": [
    {
      "cell_type": "code",
      "execution_count": 1,
      "metadata": {
        "_cell_guid": "b1076dfc-b9ad-4769-8c92-a6c4dae69d19",
        "_uuid": "8f2839f25d086af736a60e9eeb907d3b93b6e0e5",
        "id": "LkNg5bjCY8VJ"
      },
      "outputs": [],
      "source": [
        "import numpy as np\n",
        "import pandas as pd\n",
        "import torch"
      ]
    },
    {
      "cell_type": "code",
      "execution_count": 2,
      "metadata": {
        "id": "gbODT7L6Y8VM"
      },
      "outputs": [],
      "source": [
        "proteins = pd.DataFrame(columns = ['amino acid','gene', 'protein'])"
      ]
    },
    {
      "cell_type": "markdown",
      "metadata": {
        "id": "0fQC71QQY8VM"
      },
      "source": [
        "### Add Hemoglobin proteins in human body"
      ]
    },
    {
      "cell_type": "code",
      "execution_count": 3,
      "metadata": {
        "id": "qqJcs8A0Y8VY"
      },
      "outputs": [],
      "source": [
        "proteins.loc[0] = ['MVHLTPEEKSAVTALWGKVNVDEVGGEALGRLLVVYPWTQRFFESFGDLSTPDAVMGNPK\\\n",
        "VKAHGKKVLGAFSDGLAHLDNLKGTFATLSELHCDKLHVDPENFRLLGNVLVCVLAHHFG\\\n",
        "KEFTPPVQAAYQKVVAGVANALAHKYH', 'HBB', 'Hemoglobin subunit beta']"
      ]
    },
    {
      "cell_type": "code",
      "execution_count": 4,
      "metadata": {
        "id": "Adi_QuhiY8VY"
      },
      "outputs": [],
      "source": [
        "proteins.loc[1] = ['MVHLTPEEKTAVNALWGKVNVDAVGGEALGRLLVVYPWTQRFFESFGDLSSPDAVMGNPK\\\n",
        "VKAHGKKVLGAFSDGLAHLDNLKGTFSQLSELHCDKLHVDPENFRLLGNVLVCVLARNFG\\\n",
        "KEFTPQMQAAYQKVVAGVANALAHKYH', 'HBD', 'Hemoglobin subunit delta']"
      ]
    },
    {
      "cell_type": "code",
      "execution_count": 5,
      "metadata": {
        "id": "fWEd1W9DY8VZ"
      },
      "outputs": [],
      "source": [
        "proteins.loc[2] = ['MVHFTAEEKAAVTSLWSKMNVEEAGGEALGRLLVVYPWTQRFFDSFGNLSSPSAILGNPK\\\n",
        "VKAHGKKVLTSFGDAIKNMDNLKPAFAKLSELHCDKLHVDPENFKLLGNVMVIILATHFG\\\n",
        "KEFTPEVQAAWQKLVSAVAIALAHKYH', 'HBE1', 'Hemoglobin subunit epsilon']"
      ]
    },
    {
      "cell_type": "code",
      "execution_count": 6,
      "metadata": {
        "id": "AWaCC0ELY8VZ"
      },
      "outputs": [],
      "source": [
        "proteins.loc[3] = ['MSLTKTERTIIVSMWAKISTQADTIGTETLERLFLSHPQTKTYFPHFDLHPGSAQLRAHG\\\n",
        "SKVVAAVGDAVKSIDDIGGALSKLSELHAYILRVDPVNFKLLSHCLLVTLAARFPADFTA\\\n",
        "EAHAAWDKFLSVVSSVLTEKYR', 'HBZ', 'Hemoglobin subunit zeta']"
      ]
    },
    {
      "cell_type": "code",
      "execution_count": 7,
      "metadata": {
        "id": "hRtp-c_rY8VZ"
      },
      "outputs": [],
      "source": [
        "proteins.loc[4] = ['MGHFTEEDKATITSLWGKVNVEDAGGETLGRLLVVYPWTQRFFDSFGNLSSASAIMGNPK\\\n",
        "VKAHGKKVLTSLGDAIKHLDDLKGTFAQLSELHCDKLHVDPENFKLLGNVLVTVLAIHFG\\\n",
        "KEFTPEVQASWQKMVTGVASALSSRYH', 'HBG2', 'Hemoglobin subunit gamma-2']"
      ]
    },
    {
      "cell_type": "code",
      "execution_count": 8,
      "metadata": {
        "id": "lWxH97NJY8Va"
      },
      "outputs": [],
      "source": [
        "proteins.loc[5] = ['MVLSPADKTNVKAAWGKVGAHAGEYGAEALERMFLSFPTTKTYFPHFDLSHGSAQVKGHG\\\n",
        "KKVADALTNAVAHVDDMPNALSALSDLHAHKLRVDPVNFKLLSHCLLVTLAAHLPAEFTP\\\n",
        "AVHASLDKFLASVSTVLTSKYR', 'HBA1', 'Hemoglobin subunit alpha']"
      ]
    },
    {
      "cell_type": "markdown",
      "metadata": {
        "id": "NFMPLgDWY8Va"
      },
      "source": [
        "### Add Insulin proteins in human body"
      ]
    },
    {
      "cell_type": "code",
      "execution_count": 9,
      "metadata": {
        "id": "U7JORZd9Y8Va"
      },
      "outputs": [],
      "source": [
        "proteins.loc[6] = ['MATGGRRGAAAAPLLVAVAALLLGAAGHLYPGEVCPGMDIRNNLTRLHELENCSVIEGHL\\\n",
        "QILLMFKTRPEDFRDLSFPKLIMITDYLLLFRVYGLESLKDLFPNLTVIRGSRLFFNYAL\\\n",
        "VIFEMVHLKELGLYNLMNITRGSVRIEKNNELCYLATIDWSRILDSVEDNYIVLNKDDNE\\\n",
        "ECGDICPGTAKGKTNCPATVINGQFVERCWTHSHCQKVCPTICKSHGCTAEGLCCHSECL\\\n",
        "GNCSQPDDPTKCVACRNFYLDGRCVETCPPPYYHFQDWRCVNFSFCQDLHHKCKNSRRQG\\\n",
        "CHQYVIHNNKCIPECPSGYTMNSSNLLCTPCLGPCPKVCHLLEGEKTIDSVTSAQELRGC\\\n",
        "TVINGSLIINIRGGNNLAAELEANLGLIEEISGYLKIRRSYALVSLSFFRKLRLIRGETL\\\n",
        "EIGNYSFYALDNQNLRQLWDWSKHNLTITQGKLFFHYNPKLCLSEIHKMEEVSGTKGRQE\\\n",
        "RNDIALKTNGDQASCENELLKFSYIRTSFDKILLRWEPYWPPDFRDLLGFMLFYKEAPYQ\\\n",
        "NVTEFDGQDACGSNSWTVVDIDPPLRSNDPKSQNHPGWLMRGLKPWTQYAIFVKTLVTFS\\\n",
        "DERRTYGAKSDIIYVQTDATNPSVPLDPISVSNSSSQIILKWKPPSDPNGNITHYLVFWE\\\n",
        "RQAEDSELFELDYCLKGLKLPSRTWSPPFESEDSQKHNQSEYEDSAGECCSCPKTDSQIL\\\n",
        "KELEESSFRKTFEDYLHNVVFVPRKTSSGTGAEDPRPSRKRRSLGDVGNVTVAVPTVAAF\\\n",
        "PNTSSTSVPTSPEEHRPFEKVVNKESLVISGLRHFTGYRIELQACNQDTPEERCSVAAYV\\\n",
        "SARTMPEAKADDIVGPVTHEIFENNVVHLMWQEPKEPNGLIVLYEVSYRRYGDEELHLCV\\\n",
        "SRKHFALERGCRLRGLSPGNYSVRIRATSLAGNGSWTEPTYFYVTDYLDVPSNIAKIIIG\\\n",
        "PLIFVFLFSVVIGSIYLFLRKRQPDGPLGPLYASSNPEYLSASDVFPCSVYVPDEWEVSR\\\n",
        "EKITLLRELGQGSFGMVYEGNARDIIKGEAETRVAVKTVNESASLRERIEFLNEASVMKG\\\n",
        "FTCHHVVRLLGVVSKGQPTLVVMELMAHGDLKSYLRSLRPEAENNPGRPPPTLQEMIQMA\\\n",
        "AEIADGMAYLNAKKFVHRDLAARNCMVAHDFTVKIGDFGMTRDIYETDYYRKGGKGLLPV\\\n",
        "RWMAPESLKDGVFTTSSDMWSFGVVLWEITSLAEQPYQGLSNEQVLKFVMDGGYLDQPDN\\\n",
        "CPERVTDLMRMCWQFNPKMRPTFLEIVNLLKDDLHPSFPEVSFFHSEENKAPESEELEME\\\n",
        "FEDMENVPLDRSSHCQREEAGGRDGGSSLGFKRSYEEHIPYTHMNGGKKNGRILTLPRSN\\\n",
        "PS', 'INSR', 'Insulin receptor']"
      ]
    },
    {
      "cell_type": "code",
      "execution_count": 10,
      "metadata": {
        "id": "moUTKnaVY8Vb"
      },
      "outputs": [],
      "source": [
        "proteins.loc[6] = ['MRYRLAWLLHPALPSTFRSVLGARLPPPERLCGFQKKTYSKMNNPAIKRIGNHITKSPED\\\n",
        "KREYRGLELANGIKVLLISDPTTDKSSAALDVHIGSLSDPPNIAGLSHFCEHMLFLGTKK\\\n",
        "YPKENEYSQFLSEHAGSSNAFTSGEHTNYYFDVSHEHLEGALDRFAQFFLCPLFDESCKD\\\n",
        "REVNAVDSEHEKNVMNDAWRLFQLEKATGNPKHPFSKFGTGNKYTLETRPNQEGIDVRQE\\\n",
        "LLKFHSAYYSSNLMAVCVLGRESLDDLTNLVVKLFSEVENKNVPLPEFPEHPFQEEHLKQ\\\n",
        "LYKIVPIKDIRNLYVTFPIPDLQKYYKSNPGHYLGHLIGHEGPGSLLSELKSKGWVNTLV\\\n",
        "GGQKEGARGFMFFIINVDLTEEGLLHVEDIILHMFQYIQKLRAEGPQEWVFQECKDLNAV\\\n",
        "AFRFKDKERPRGYTSKIAGILHYYPLEEVLTAEYLLEEFRPDLIEMVLDKLRPENVRVAI\\\n",
        "VSKSFEGKTDRTEEWYGTQYKQEAIPDEVIKKWQNADLNGKFKLPTKNEFIPTNFEILPL\\\n",
        "EKEATPYPALIKDTAMSKLWFKQDDKFFLPKACLNFEFFSPFAYVDPLHCNMAYLYLELL\\\n",
        "KDSLNEYAYAAELAGLSYDLQNTIYGMYLSVKGYNDKQPILLKKIIEKMATFEIDEKRFE\\\n",
        "IIKEAYMRSLNNFRAEQPHQHAMYYLRLLMTEVAWTKDELKEALDDVTLPRLKAFIPQLL\\\n",
        "SRLHIEALLHGNITKQAALGIMQMVEDTLIEHAHTKPLLPSQLVRYREVQLPDRGWFVYQ\\\n",
        "QRNEVHNNCGIEIYYQTDMQSTSENMFLELFCQIISEPCFNTLRTKEQLGYIVFSGPRRA\\\n",
        "NGIQGLRFIIQSEKPPHYLESRVEAFLITMEKSIEDMTEEAFQKHIQALAIRRLDKPKKL\\\n",
        "SAECAKYWGEIISQQYNFDRDNTEVAYLKTLTKEDIIKFYKEMLAVDAPRRHKVSVHVLA\\\n",
        "REMDSCPVVGEFPCQNDINLSQAPALPQPEVIQNMTEFKRGLPLFPLVKPHINFMAAKL', 'IDE', 'Insulin-degrading enzyme']"
      ]
    },
    {
      "cell_type": "code",
      "execution_count": 11,
      "metadata": {
        "id": "J8PedhUiY8Vb"
      },
      "outputs": [],
      "source": [
        "proteins.loc[7] = ['MALWMRLLPLLALLALWGPDPAAAFVNQHLCGSHLVEALYLVCGERGFFYTPKTRREAED\\\n",
        "LQVGQVELGGGPGAGSLQPLALEGSLQKRGIVEQCCTSICSLYQLENYCN', 'INS', 'Insulin']"
      ]
    },
    {
      "cell_type": "code",
      "execution_count": 12,
      "metadata": {
        "id": "VrfFAvXfY8Vc"
      },
      "outputs": [],
      "source": [
        "proteins.loc[7] = ['MALWMRLLPLLALLALWGPDPAAAFVNQHLCGSHLVEALYLVCGERGFFYTPKTRREAED\\\n",
        "LQVGQVELGGGPGAGSLQPLALEGSLQKRGIVEQCCTSICSLYQLENYCN', 'INS', 'Insulin']"
      ]
    },
    {
      "cell_type": "markdown",
      "metadata": {
        "id": "FYM9ndknY8Vc"
      },
      "source": [
        "### Add Actin proteins in human body"
      ]
    },
    {
      "cell_type": "code",
      "execution_count": 13,
      "metadata": {
        "id": "sdJsOWfEY8Vc"
      },
      "outputs": [],
      "source": [
        "proteins.loc[7] = ['MAPHRPAPALLCALSLALCALSLPVRAATASRGASQAGAPQGRVPEARPNSMVVEHPEFL\\\n",
        "KAGKEPGLQIWRVEKFDLVPVPTNLYGDFFTGDAYVILKTVQLRNGNLQYDLHYWLGNEC\\\n",
        "SQDESGAAAIFTVQLDDYLNGRAVQHREVQGFESATFLGYFKSGLKYKKGGVASGFKHVV\\\n",
        "PNEVVVQRLFQVKGRRVVRATEVPVSWESFNNGDCFILDLGNNIHQWCGSNSNRYERLKA\\\n",
        "TQVSKGIRDNERSGRARVHVSEEGTEPEAMLQVLGPKPALPAGTEDTAKEDAANRKLAKL\\\n",
        "YKVSNGAGTMSVSLVADENPFAQGALKSEDCFILDHGKDGKIFVWKGKQANTEERKAALK\\\n",
        "TASDFITKMDYPKQTQVSVLPEGGETPLFKQFFKNWRDPDQTDGLGLSYLSSHIANVERV\\\n",
        "PFDAATLHTSTAMAAQHGMDDDGTGQKQIWRIEGSNKVPVDPATYGQFYGGDSYIILYNY\\\n",
        "RHGGRQGQIIYNWQGAQSTQDEVAASAILTAQLDEELGGTPVQSRVVQGKEPAHLMSLFG\\\n",
        "GKPMIIYKGGTSREGGQTAPASTRLFQVRANSAGATRAVEVLPKAGALNSNDAFVLKTPS\\\n",
        "AAYLWVGTGASEAEKTGAQELLRVLRAQPVQVAEGSEPDGFWEALGGKAAYRTSPRLKDK\\\n",
        "KMDAHPPRLFACSNKIGRFVIEEVPGELMQEDLATDDVMLLDTWDQVFVWVGKDSQEEEK\\\n",
        "TEALTSAKRYIETDPANRDRRTPITVVKQGFEPPSFVGWFLGWDDDYWSVDPLDRAMAEL\\\n",
        "AA', 'GSN', 'Gelsolin']"
      ]
    },
    {
      "cell_type": "code",
      "execution_count": 14,
      "metadata": {
        "id": "mGYXjtAKY8Vc"
      },
      "outputs": [],
      "source": [
        "proteins.loc[8] = ['MEEVPGDALCEHFEANILTQNRCQNCFHPEEAHGARYQELRSPSGAEVPYCDLPRCPPAP\\\n",
        "EDPLSASTSGCQSVVDPGLRPGPKRGPSPSAGLPEEGPTAAPRSRSRELEAVPYLEGLTT\\\n",
        "SLCGSCNEDPGSDPTSSPDSATPDDTSNSSSVDWDTVERQEEEAPSWDELAVMIPRRPRE\\\n",
        "GPRADSSQRAPSLLTRSPVGGDAAGQKKEDTGGGGRSAGQHWARLRGESGLSLERHRSTL\\\n",
        "TQASSMTPHSGPRSTTSQASPAQRDTAQAASTREIPRASSPHRITQRDTSRASSTQQEIS\\\n",
        "RASSTQQETSRASSTQEDTPRASSTQEDTPRASSTQWNTPRASSPSRSTQLDNPRTSSTQ\\\n",
        "QDNPQTSFPTCTPQRENPRTPCVQQDDPRASSPNRTTQRENSRTSCAQRDNPKASRTSSP\\\n",
        "NRATRDNPRTSCAQRDNPRASSPSRATRDNPTTSCAQRDNPRASRTSSPNRATRDNPRTS\\\n",
        "CAQRDNPRASSPSRATRDNPTTSCAQRDNPRASRTSSPNRATRDNPRTSCAQRDNPRASS\\\n",
        "PNRAARDNPTTSCAQRDNPRASRTSSPNRATRDNPRTSCAQRDNPRASSPNRATRDNPTT\\\n",
        "SCAQRDNPRASRTSSPNRATRDNPRTSCAQRDNPRASSPNRTTQQDSPRTSCARRDDPRA\\\n",
        "SSPNRTIQQENPRTSCALRDNPRASSPSRTIQQENPRTSCAQRDDPRASSPNRTTQQENP\\\n",
        "RTSCARRDNPRASSRNRTIQRDNPRTSCAQRDNPRASSPNRTIQQENLRTSCTRQDNPRT\\\n",
        "SSPNRATRDNPRTSCAQRDNLRASSPIRATQQDNPRTCIQQNIPRSSSTQQDNPKTSCTK\\\n",
        "RDNLRPTCTQRDRTQSFSFQRDNPGTSSSQCCTQKENLRPSSPHRSTQWNNPRNSSPHRT\\\n",
        "NKDIPWASFPLRPTQSDGPRTSSPSRSKQSEVPWASIALRPTQGDRPQTSSPSRPAQHDP\\\n",
        "PQSSFGPTQYNLPSRATSSSHNPGHQSTSRTSSPVYPAAYGAPLTSPEPSQPPCAVCIGH\\\n",
        "RDAPRASSPPRYLQHDPFPFFPEPRAPESEPPHHEPPYIPPAVCIGHRDAPRASSPPRHT\\\n",
        "QFDPFPFLPDTSDAEHQCQSPQHEPLQLPAPVCIGYRDAPRASSPPRQAPEPSLLFQDLP\\\n",
        "RASTESLVPSMDSLHECPHIPTPVCIGHRDAPSFSSPPRQAPEPSLFFQDPPGTSMESLA\\\n",
        "PSTDSLHGSPVLIPQVCIGHRDAPRASSPPRHPPSDLAFLAPSPSPGSSGGSRGSAPPGE\\\n",
        "TRHNLEREEYTVLADLPPPRRLAQRQPGPQAQCSSGGRTHSPGRAEVERLFGQERRKSEA\\\n",
        "AGAFQAQDEGRSQQPSQGQSQLLRRQSSPAPSRQVTMLPAKQAELTRRSQAEPPHPWSPE\\\n",
        "KRPEGDRQLQGSPLPPRTSARTPERELRTQRPLESGQAGPRQPLGVWQSQEEPPGSQGPH\\\n",
        "RHLERSWSSQEGGLGPGGWWGCGEPSLGAAKAPEGAWGGTSREYKESWGQPEAWEEKPTH\\\n",
        "ELPRELGKRSPLTSPPENWGGPAESSQSWHSGTPTAVGWGAEGACPYPRGSERRPELDWR\\\n",
        "DLLGLLRAPGEGVWARVPSLDWEGLLELLQARLPRKDPAGHRDDLARALGPELGPPGTND\\\n",
        "VPEQESHSQPEGWAEATPVNGHSPALQSQSPVQLPSPACTSTQWPKIKVTRGPATATLAG\\\n",
        "LEQTGPLGSRSTAKGPSLPELQFQPEEPEESEPSRGQDPLTDQKQADSADKRPAEGKAGS\\\n",
        "PLKGRLVTSWRMPGDRPTLFNPFLLSLGVLRWRRPDLLNFKKGWMSILDEPGEPPSPSLT\\\n",
        "TTSTSQWKKHWFVLTDSSLKYYRDSTAEEADELDGEIDLRSCTDVTEYAVQRNYGFQIHT\\\n",
        "KDAVYTLSAMTSGIRRNWIEALRKTVRPTSAPDVTKLSDSNKENALHSYSTQKGPLKAGE\\\n",
        "QRAGSEVISRGGPRKADGQRQALDYVELSPLTQASPQRARTPARTPDRLAKQEELERDLA\\\n",
        "QRSEERRKWFEATDSRTPEVPAGEGPRRGLGAPLTEDQQNRLSEEIEKKWQELEKLPLRE\\\n",
        "NKRVPLTALLNQSRGERRGPPSDGHEALEKEVQALRAQLEAWRLQGEAPQSALRSQEDGH\\\n",
        "IPPGYISQEACERSLAEMESSHQQVMEELQRHHERELQRLQQEKEWLLAEETAATASAIE\\\n",
        "AMKKAYQEELSRELSKTRSLQQGPDGLRKQHQSDVEALKRELQVLSEQYSQKCLEIGALM\\\n",
        "RQAEEREHTLRRCQQEGQELLRHNQELHGRLSEEIDQLRGFIASQGMGNGCGRSNERSSC\\\n",
        "ELEVLLRVKENELQYLKKEVQCLRDELQMMQKDKRFTSGKYQDVYVELSHIKTRSEREIE\\\n",
        "QLKEHLRLAMAALQEKESMRNSLAE', 'TRIOBP', 'TRIO and F-actin-binding protein']"
      ]
    },
    {
      "cell_type": "code",
      "execution_count": 15,
      "metadata": {
        "id": "F8XlenzXY8Vd"
      },
      "outputs": [],
      "source": [
        "proteins.loc[9] = ['MGKKSRVKTQKSGTGATATVSPKEILNLTSELLQKCSSPAPGPGKEWEEYVQIRTLVEKI\\\n",
        "RKKQKGLSVTFDGKREDYFPDLMKWASENGASVEGFEMVNFKEEGFGLRATRDIKAEELF\\\n",
        "LWVPRKLLMTVESAKNSVLGPLYSQDRILQAMGNIALAFHLLCERASPNSFWQPYIQTLP\\\n",
        "SEYDTPLYFEEDEVRYLQSTQAIHDVFSQYKNTARQYAYFYKVIQTHPHANKLPLKDSFT\\\n",
        "YEDYRWAVSSVMTRQNQIPTEDGSRVTLALIPLWDMCNHTNGLITTGYNLEDDRCECVAL\\\n",
        "QDFRAGEQIYIFYGTRSNAEFVIHSGFFFDNNSHDRVKIKLGVSKSDRLYAMKAEVLARA\\\n",
        "GIPTSSVFALHFTEPPISAQLLAFLRVFCMTEEELKEHLLGDSAIDRIFTLGNSEFPVSW\\\n",
        "DNEVKLWTFLEDRASLLLKTYKTTIEEDKSVLKNHDLSVRAKMAIKLRLGEKEILEKAVK\\\n",
        "SAAVNREYYRQQMEEKAPLPKYEESNLGLLESSVGDSRLPLVLRNLEEEAGVQDALNIRE\\\n",
        "AISKAKATENGLVNGENSIPNGTRSENESLNQESKRAVEDAKGSSSDSTAGVKE', 'SETD3', 'Actin-histidine N-methyltransferase']"
      ]
    },
    {
      "cell_type": "code",
      "execution_count": 16,
      "metadata": {
        "id": "xTKDtHj4Y8Vd"
      },
      "outputs": [],
      "source": [
        "proteins.loc[10] = ['MDDDIAALVVDNGSGMCKAGFAGDDAPRAVFPSIVGRPRHQGVMVGMGQKDSYVGDEAQS\\\n",
        "KRGILTLKYPIEHGIVTNWDDMEKIWHHTFYNELRVAPEEHPVLLTEAPLNPKANREKMT\\\n",
        "QIMFETFNTPAMYVAIQAVLSLYASGRTTGIVMDSGDGVTHTVPIYEGYALPHAILRLDL\\\n",
        "AGRDLTDYLMKILTERGYSFTTTAEREIVRDIKEKLCYVALDFEQEMATAASSSSLEKSY\\\n",
        "ELPDGQVITIGNERFRCPEALFQPSFLGMESCGIHETTFNSIMKCDVDIRKDLYANTVLS\\\n",
        "GGTTMYPGIADRMQKEITALAPSTMKIKIIAPPERKYSVWIGGSILASLSTFQQMWISKQ\\\n",
        "EYDESGPSIVHRKCF', 'ACTB', 'cytoplasmic 1']"
      ]
    },
    {
      "cell_type": "code",
      "execution_count": 17,
      "metadata": {
        "id": "vVMA_scmY8Vd"
      },
      "outputs": [],
      "source": [
        "proteins.loc[11] = ['MEEEIAALVIDNGSGMCKAGFAGDDAPRAVFPSIVGRPRHQGVMVGMGQKDSYVGDEAQS\\\n",
        "KRGILTLKYPIEHGIVTNWDDMEKIWHHTFYNELRVAPEEHPVLLTEAPLNPKANREKMT\\\n",
        "QIMFETFNTPAMYVAIQAVLSLYASGRTTGIVMDSGDGVTHTVPIYEGYALPHAILRLDL\\\n",
        "AGRDLTDYLMKILTERGYSFTTTAEREIVRDIKEKLCYVALDFEQEMATAASSSSLEKSY\\\n",
        "ELPDGQVITIGNERFRCPEALFQPSFLGMESCGIHETTFNSIMKCDVDIRKDLYANTVLS\\\n",
        "GGTTMYPGIADRMQKEITALAPSTMKIKIIAPPERKYSVWIGGSILASLSTFQQMWISKQ\\\n",
        "EYDESGPSIVHRKCF', 'ACTG1', 'cytoplasmic 2']"
      ]
    },
    {
      "cell_type": "code",
      "execution_count": 18,
      "metadata": {
        "id": "CimnOhgsY8Ve"
      },
      "outputs": [],
      "source": [
        "proteins.loc[12] = ['MTSPCSPPLKPPISPPKTPVPQASSIPSPPLPPSPLDFSALPSPPWSQQTPVPPPLPLPP\\\n",
        "PPAATGPAPRHVFGLEKSQLLKEAFDKAGPVPKGREDVKRLLKLHKDRFRGDLRWILFCA\\\n",
        "DLPSLIQEGPQCGLVALWMAGTLLSPPSGVPLERLIRVATERGYTAQGEMFSVADMGRLA\\\n",
        "QEVLGCQAKLLSGGLGGPNRDLVLQHLVTGHPLLIPYDEDFNHEPCQRKGHKAHWAVSAG\\\n",
        "VLLGVRAVPSLGYTEDPELPGLFHPVLGTPCQPPSLPEEGSPGAVYLLSKQGKSWHYQLW\\\n",
        "DYDQVRESNLQLTDFSPSRATDGRVYVVPVGGVRAGLCGQALLLTPQDCSH', 'ACTMAP', 'Actin maturation protease']"
      ]
    },
    {
      "cell_type": "markdown",
      "metadata": {
        "id": "fKT5lUGNY8Ve"
      },
      "source": [
        "### Add Histones proteins in human body"
      ]
    },
    {
      "cell_type": "code",
      "execution_count": 19,
      "metadata": {
        "id": "qmOIavhLY8Ve"
      },
      "outputs": [],
      "source": [
        "proteins.loc[13] = ['MDISTRSKDPGSAERTAQKRKFPSPPHSSNGHSPQDTSTSPIKKKKKPGLLNSNNKEQSE\\\n",
        "LRHGPFYYMKQPLTTDPVDVVPQDGRNDFYCWVCHREGQVLCCELCPRVYHAKCLRLTSE\\\n",
        "PEGDWFCPECEKITVAECIETQSKAMTMLTIEQLSYLLKFAIQKMKQPGTDAFQKPVPLE\\\n",
        "QHPDYAEYIFHPMDLCTLEKNAKKKMYGCTEAFLADAKWILHNCIIYNGGNHKLTQIAKV\\\n",
        "VIKICEHEMNEIEVCPECYLAACQKRDNWFCEPCSNPHPLVWAKLKGFPFWPAKALRDKD\\\n",
        "GQVDARFFGQHDRAWVPINNCYLMSKEIPFSVKKTKSIFNSAMQEMEVYVENIRRKFGVF\\\n",
        "NYSPFRTPYTPNSQYQMLLDPTNPSAGTAKIDKQEKVKLNFDMTASPKILMSKPVLSGGT\\\n",
        "GRRISLSDMPRSPMSTNSSVHTGSDVEQDAEKKATSSHFSASEESMDFLDKSTASPASTK\\\n",
        "TGQAGSLSGSPKPFSPQLSAPITTKTDKTSTTGSILNLNLDRSKAEMDLKELSESVQQQS\\\n",
        "TPVPLISPKRQIRSRFQLNLDKTIESCKAQLGINEISEDVYTAVEHSDSEDSEKSDSSDS\\\n",
        "EYISDDEQKSKNEPEDTEDKEGCQMDKEPSAVKKKPKPTNPVEIKEELKSTSPASEKADP\\\n",
        "GAVKDKASPEPEKDFSEKAKPSPHPIKDKLKGKDETDSPTVHLGLDSDSESELVIDLGED\\\n",
        "HSGREGRKNKKEPKEPSPKQDVVGKTPPSTTVGSHSPPETPVLTRSSAQTSAAGATATTS\\\n",
        "TSSTVTVTAPAPAATGSPVKKQRPLLPKETAPAVQRVVWNSSSKFQTSSQKWHMQKMQRQ\\\n",
        "QQQQQQQNQQQQPQSSQGTRYQTRQAVKAVQQKEITQSPSTSTITLVTSTQSSPLVTSSG\\\n",
        "SMSTLVSSVNADLPIATASADVAADIAKYTSKMMDAIKGTMTEIYNDLSKNTTGSTIAEI\\\n",
        "RRLRIEIEKLQWLHQQELSEMKHNLELTMAEMRQSLEQERDRLIAEVKKQLELEKQQAVD\\\n",
        "ETKKKQWCANCKKEAIFYCCWNTSYCDYPCQQAHWPEHMKSCTQSATAPQQEADAEVNTE\\\n",
        "TLNKSSQGSSSSTQSAPSETASASKEKETSAEKSKESGSTLDLSGSRETPSSILLGSNQG\\\n",
        "SDHSRSNKSSWSSSDEKRGSTRSDHNTSTSTKSLLPKESRLDTFWD', 'ZMYND8', 'MYND-type zinc finger-containing chromatin reader ZMYND8']"
      ]
    },
    {
      "cell_type": "code",
      "execution_count": 20,
      "metadata": {
        "id": "V7cK1jGiY8Ve"
      },
      "outputs": [],
      "source": [
        "proteins.loc[14] = ['MAESSESFTMASSPAQRRRGNDPLTSSPGRSSRRTDALTSSPGRDLPPFEDESEGLLGTE\\\n",
        "GPLEEEEDGEELIGDGMERDYRAIPELDAYEAEGLALDDEDVEELTASQREAAERAMRQR\\\n",
        "DREAGRGLGRMRRGLLYDSDEEDEERPARKRRQVERATEDGEEDEEMIESIENLEDLKGH\\\n",
        "SVREWVSMAGPRLEIHHRFKNFLRTHVDSHGHNVFKERISDMCKENRESLVVNYEDLAAR\\\n",
        "EHVLAYFLPEAPAELLQIFDEAALEVVLAMYPKYDRITNHIHVRISHLPLVEELRSLRQL\\\n",
        "HLNQLIRTSGVVTSCTGVLPQLSMVKYNCNKCNFVLGPFCQSQNQEVKPGSCPECQSAGP\\\n",
        "FEVNMEETIYQNYQRIRIQESPGKVAAGRLPRSKDAILLADLVDSCKPGDEIELTGIYHN\\\n",
        "NYDGSLNTANGFPVFATVILANHVAKKDNKVAVGELTDEDVKMITSLSKDQQIGEKIFAS\\\n",
        "IAPSIYGHEDIKRGLALALFGGEPKNPGGKHKVRGDINVLLCGDPGTAKSQFLKYIEKVS\\\n",
        "SRAIFTTGQGASAVGLTAYVQRHPVSREWTLEAGALVLADRGVCLIDEFDKMNDQDRTSI\\\n",
        "HEAMEQQSISISKAGIVTSLQARCTVIAAANPIGGRYDPSLTFSENVDLTEPIISRFDIL\\\n",
        "CVVRDTVDPVQDEMLARFVVGSHVRHHPSNKEEEGLANGSAAEPAMPNTYGVEPLPQEVL\\\n",
        "KKYIIYAKERVHPKLNQMDQDKVAKMYSDLRKESMATGSIPITVRHIESMIRMAEAHARI\\\n",
        "HLRDYVIEDDVNMAIRVMLESFIDTQKFSVMRSMRKTFARYLSFRRDNNELLLFILKQLV\\\n",
        "AEQVTYQRNRFGAQQDTIEVPEKDLVDKARQINIHNLSAFYDSELFRMNKFSHDLKRKMI\\\n",
        "LQQF', 'MCM2', 'DNA replication licensing factor MCM2']"
      ]
    },
    {
      "cell_type": "code",
      "execution_count": 21,
      "metadata": {
        "id": "ap0P2dXgY8Vf"
      },
      "outputs": [],
      "source": [
        "proteins.loc[15] = ['MAKVQVNNVVVLDNPSPFYNPFQFEITFECIEDLSEDLEWKIIYVGSAESEEYDQVLDSV\\\n",
        "LVGPVPAGRHMFVFQADAPNPGLIPDADAVGVTVVLITCTYRGQEFIRVGYYVNNEYTET\\\n",
        "ELRENPPVKPDFSKLQRNILASNPRVTRFHINWEDNTEKLEDAESSNPNLQSLLSTDALP\\\n",
        "SASKGWSTSENSLNVMLESHMDCM', 'ASF1A', 'Histone chaperone ASF1A']"
      ]
    },
    {
      "cell_type": "code",
      "execution_count": 22,
      "metadata": {
        "id": "odo_n-_CY8Vf"
      },
      "outputs": [],
      "source": [
        "proteins.loc[16] = ['MSGGFELQPRDGGPRVALAPGETVIGRGPLLGITDKRVSRRHAILEVAGGQLRIKPIHTN\\\n",
        "PCFYQSSEKSQLLPLKPNLWCYLNPGDSFSLLVDKYIFRILSIPSEVEMQCTLRNSQVLD\\\n",
        "EDNILNETPKSPVINLPHETTGASQLEGSTEIAKTQMTPTNSVSFLGENRDCNKQQPILA\\\n",
        "ERKRILPTWMLAEHLSDQNLSVPAISGGNVIQGSGKEEICKDKSQLNTTQQGRRQLISSG\\\n",
        "SSENTSAEQDTGEECKNTDQEESTISSKEMPQSFSAITLSNTEMNNIKTNAQRNKLPIEE\\\n",
        "LGKVSKHKIATKRTPHKEDEAMSCSENCSSAQGDSLQDESQGSHSESSSNPSNPETLHAK\\\n",
        "ATDSVLQGSEGNKVKRTSCMYGANCYRKNPVHFQHFSHPGDSDYGGVQIVGQDETDDRPE\\\n",
        "CPYGPSCYRKNPQHKIEYRHNTLPVRNVLDEDNDNVGQPNEYDLNDSFLDDEEEDYEPTD\\\n",
        "EDSDWEPGKEDEEKEDVEELLKEAKRFMKRK', 'APLF', 'Aprataxin and PNK-like factor']"
      ]
    },
    {
      "cell_type": "code",
      "execution_count": 23,
      "metadata": {
        "id": "_iMb1JO7Y8Vf"
      },
      "outputs": [],
      "source": [
        "proteins.loc[17] = ['MAKVSVLNVAVLENPSPFHSPFRFEISFECSEALADDLEWKIIYVGSAESEEFDQILDSV\\\n",
        "LVGPVPAGRHMFVFQADAPNPSLIPETDAVGVTVVLITCTYHGQEFIRVGYYVNNEYLNP\\\n",
        "ELRENPPMKPDFSQLQRNILASNPRVTRFHINWDNNMDRLEAIETQDPSLGCGLPLNCTP\\\n",
        "IKGLGLPGCIPGLLPENSMDCI', 'ASF1B', 'Histone chaperone ASF1B']"
      ]
    },
    {
      "cell_type": "code",
      "execution_count": 24,
      "metadata": {
        "id": "xUnq51iyY8Vf"
      },
      "outputs": [],
      "source": [
        "proteins.loc[18] = ['MGLLDLCEEVFGTADLYRVLGVRREASDGEVRRGYHKVSLQVHPDRVGEGDKEDATRRFQ\\\n",
        "ILGKVYSVLSDREQRAVYDEQGTVDEDSPVLTQDRDWEAYWRLLFKKISLEDIQAFEKTY\\\n",
        "KGSEEELADIKQAYLDFKGDMDQIMESVLCVQYTEEPRIRNIIQQAIDAGEVPSYNAFVK\\\n",
        "ESKQKMNARKRRAQEEAKEAEMSRKELGLDEGVDSLKAAIQSRQKDRQKEMDNFLAQMEA\\\n",
        "KYCKSSKGGGKKSALKKEKK', 'DNAJC9', 'DnaJ homolog subfamily C member 9']"
      ]
    },
    {
      "cell_type": "code",
      "execution_count": 25,
      "metadata": {
        "tags": [],
        "colab": {
          "base_uri": "https://localhost:8080/",
          "height": 206
        },
        "id": "pbcqglqSY8Vf",
        "outputId": "fc4f001b-d5c7-46a6-b6f0-2381104d1d21"
      },
      "outputs": [
        {
          "output_type": "execute_result",
          "data": {
            "text/plain": [
              "                                          amino acid  gene  \\\n",
              "0  MVHLTPEEKSAVTALWGKVNVDEVGGEALGRLLVVYPWTQRFFESF...   HBB   \n",
              "1  MVHLTPEEKTAVNALWGKVNVDAVGGEALGRLLVVYPWTQRFFESF...   HBD   \n",
              "2  MVHFTAEEKAAVTSLWSKMNVEEAGGEALGRLLVVYPWTQRFFDSF...  HBE1   \n",
              "3  MSLTKTERTIIVSMWAKISTQADTIGTETLERLFLSHPQTKTYFPH...   HBZ   \n",
              "4  MGHFTEEDKATITSLWGKVNVEDAGGETLGRLLVVYPWTQRFFDSF...  HBG2   \n",
              "\n",
              "                      protein  \n",
              "0     Hemoglobin subunit beta  \n",
              "1    Hemoglobin subunit delta  \n",
              "2  Hemoglobin subunit epsilon  \n",
              "3     Hemoglobin subunit zeta  \n",
              "4  Hemoglobin subunit gamma-2  "
            ],
            "text/html": [
              "\n",
              "  <div id=\"df-8f9f482b-b114-4244-b3e3-cbaf0b8068bc\">\n",
              "    <div class=\"colab-df-container\">\n",
              "      <div>\n",
              "<style scoped>\n",
              "    .dataframe tbody tr th:only-of-type {\n",
              "        vertical-align: middle;\n",
              "    }\n",
              "\n",
              "    .dataframe tbody tr th {\n",
              "        vertical-align: top;\n",
              "    }\n",
              "\n",
              "    .dataframe thead th {\n",
              "        text-align: right;\n",
              "    }\n",
              "</style>\n",
              "<table border=\"1\" class=\"dataframe\">\n",
              "  <thead>\n",
              "    <tr style=\"text-align: right;\">\n",
              "      <th></th>\n",
              "      <th>amino acid</th>\n",
              "      <th>gene</th>\n",
              "      <th>protein</th>\n",
              "    </tr>\n",
              "  </thead>\n",
              "  <tbody>\n",
              "    <tr>\n",
              "      <th>0</th>\n",
              "      <td>MVHLTPEEKSAVTALWGKVNVDEVGGEALGRLLVVYPWTQRFFESF...</td>\n",
              "      <td>HBB</td>\n",
              "      <td>Hemoglobin subunit beta</td>\n",
              "    </tr>\n",
              "    <tr>\n",
              "      <th>1</th>\n",
              "      <td>MVHLTPEEKTAVNALWGKVNVDAVGGEALGRLLVVYPWTQRFFESF...</td>\n",
              "      <td>HBD</td>\n",
              "      <td>Hemoglobin subunit delta</td>\n",
              "    </tr>\n",
              "    <tr>\n",
              "      <th>2</th>\n",
              "      <td>MVHFTAEEKAAVTSLWSKMNVEEAGGEALGRLLVVYPWTQRFFDSF...</td>\n",
              "      <td>HBE1</td>\n",
              "      <td>Hemoglobin subunit epsilon</td>\n",
              "    </tr>\n",
              "    <tr>\n",
              "      <th>3</th>\n",
              "      <td>MSLTKTERTIIVSMWAKISTQADTIGTETLERLFLSHPQTKTYFPH...</td>\n",
              "      <td>HBZ</td>\n",
              "      <td>Hemoglobin subunit zeta</td>\n",
              "    </tr>\n",
              "    <tr>\n",
              "      <th>4</th>\n",
              "      <td>MGHFTEEDKATITSLWGKVNVEDAGGETLGRLLVVYPWTQRFFDSF...</td>\n",
              "      <td>HBG2</td>\n",
              "      <td>Hemoglobin subunit gamma-2</td>\n",
              "    </tr>\n",
              "  </tbody>\n",
              "</table>\n",
              "</div>\n",
              "      <button class=\"colab-df-convert\" onclick=\"convertToInteractive('df-8f9f482b-b114-4244-b3e3-cbaf0b8068bc')\"\n",
              "              title=\"Convert this dataframe to an interactive table.\"\n",
              "              style=\"display:none;\">\n",
              "        \n",
              "  <svg xmlns=\"http://www.w3.org/2000/svg\" height=\"24px\"viewBox=\"0 0 24 24\"\n",
              "       width=\"24px\">\n",
              "    <path d=\"M0 0h24v24H0V0z\" fill=\"none\"/>\n",
              "    <path d=\"M18.56 5.44l.94 2.06.94-2.06 2.06-.94-2.06-.94-.94-2.06-.94 2.06-2.06.94zm-11 1L8.5 8.5l.94-2.06 2.06-.94-2.06-.94L8.5 2.5l-.94 2.06-2.06.94zm10 10l.94 2.06.94-2.06 2.06-.94-2.06-.94-.94-2.06-.94 2.06-2.06.94z\"/><path d=\"M17.41 7.96l-1.37-1.37c-.4-.4-.92-.59-1.43-.59-.52 0-1.04.2-1.43.59L10.3 9.45l-7.72 7.72c-.78.78-.78 2.05 0 2.83L4 21.41c.39.39.9.59 1.41.59.51 0 1.02-.2 1.41-.59l7.78-7.78 2.81-2.81c.8-.78.8-2.07 0-2.86zM5.41 20L4 18.59l7.72-7.72 1.47 1.35L5.41 20z\"/>\n",
              "  </svg>\n",
              "      </button>\n",
              "      \n",
              "  <style>\n",
              "    .colab-df-container {\n",
              "      display:flex;\n",
              "      flex-wrap:wrap;\n",
              "      gap: 12px;\n",
              "    }\n",
              "\n",
              "    .colab-df-convert {\n",
              "      background-color: #E8F0FE;\n",
              "      border: none;\n",
              "      border-radius: 50%;\n",
              "      cursor: pointer;\n",
              "      display: none;\n",
              "      fill: #1967D2;\n",
              "      height: 32px;\n",
              "      padding: 0 0 0 0;\n",
              "      width: 32px;\n",
              "    }\n",
              "\n",
              "    .colab-df-convert:hover {\n",
              "      background-color: #E2EBFA;\n",
              "      box-shadow: 0px 1px 2px rgba(60, 64, 67, 0.3), 0px 1px 3px 1px rgba(60, 64, 67, 0.15);\n",
              "      fill: #174EA6;\n",
              "    }\n",
              "\n",
              "    [theme=dark] .colab-df-convert {\n",
              "      background-color: #3B4455;\n",
              "      fill: #D2E3FC;\n",
              "    }\n",
              "\n",
              "    [theme=dark] .colab-df-convert:hover {\n",
              "      background-color: #434B5C;\n",
              "      box-shadow: 0px 1px 3px 1px rgba(0, 0, 0, 0.15);\n",
              "      filter: drop-shadow(0px 1px 2px rgba(0, 0, 0, 0.3));\n",
              "      fill: #FFFFFF;\n",
              "    }\n",
              "  </style>\n",
              "\n",
              "      <script>\n",
              "        const buttonEl =\n",
              "          document.querySelector('#df-8f9f482b-b114-4244-b3e3-cbaf0b8068bc button.colab-df-convert');\n",
              "        buttonEl.style.display =\n",
              "          google.colab.kernel.accessAllowed ? 'block' : 'none';\n",
              "\n",
              "        async function convertToInteractive(key) {\n",
              "          const element = document.querySelector('#df-8f9f482b-b114-4244-b3e3-cbaf0b8068bc');\n",
              "          const dataTable =\n",
              "            await google.colab.kernel.invokeFunction('convertToInteractive',\n",
              "                                                     [key], {});\n",
              "          if (!dataTable) return;\n",
              "\n",
              "          const docLinkHtml = 'Like what you see? Visit the ' +\n",
              "            '<a target=\"_blank\" href=https://colab.research.google.com/notebooks/data_table.ipynb>data table notebook</a>'\n",
              "            + ' to learn more about interactive tables.';\n",
              "          element.innerHTML = '';\n",
              "          dataTable['output_type'] = 'display_data';\n",
              "          await google.colab.output.renderOutput(dataTable, element);\n",
              "          const docLink = document.createElement('div');\n",
              "          docLink.innerHTML = docLinkHtml;\n",
              "          element.appendChild(docLink);\n",
              "        }\n",
              "      </script>\n",
              "    </div>\n",
              "  </div>\n",
              "  "
            ]
          },
          "metadata": {},
          "execution_count": 25
        }
      ],
      "source": [
        "proteins.head()"
      ]
    },
    {
      "cell_type": "code",
      "execution_count": 26,
      "metadata": {
        "id": "IRUfqSMTY8Vg"
      },
      "outputs": [],
      "source": [
        "def get_aa_seq(aa_col):\n",
        "    '''\n",
        "    function to get the sequence of amino acids which proteins in human body are made by\n",
        "    input: the column of amino acids\n",
        "    output: string of concatanation of all sequences of amino acids\n",
        "    '''\n",
        "    aa_seq = ''\n",
        "    for each_aa in aa_col:\n",
        "        aa_seq += each_aa\n",
        "    return aa_seq"
      ]
    },
    {
      "cell_type": "code",
      "execution_count": 27,
      "metadata": {
        "colab": {
          "base_uri": "https://localhost:8080/"
        },
        "id": "zo9a4m0UY8Vg",
        "outputId": "f38ff783-e7d8-4c14-ebcf-ba004857d2cd"
      },
      "outputs": [
        {
          "output_type": "execute_result",
          "data": {
            "text/plain": [
              "10000"
            ]
          },
          "metadata": {},
          "execution_count": 27
        }
      ],
      "source": [
        "aa_seq = get_aa_seq(proteins['amino acid']) #concatante all sequences of amino acids as a string object\n",
        "len(aa_seq) #length of data(string sequence of amino acids)"
      ]
    },
    {
      "cell_type": "code",
      "execution_count": 28,
      "metadata": {
        "id": "MkLLJUp2Y8Vh"
      },
      "outputs": [],
      "source": [
        "#charachter level\n",
        "chars = sorted(list(set(aa_seq))) #each unique character in the string data(sequence of amino acids)\n",
        "vocab_size = len(chars) #the length of unique characters"
      ]
    },
    {
      "cell_type": "code",
      "execution_count": 29,
      "metadata": {
        "colab": {
          "base_uri": "https://localhost:8080/"
        },
        "id": "__E0j0JMY8Vh",
        "outputId": "a2797b1a-b59e-4df4-dc98-ab10bc96c1a9"
      },
      "outputs": [
        {
          "output_type": "execute_result",
          "data": {
            "text/plain": [
              "{'A': 0,\n",
              " 'C': 1,\n",
              " 'D': 2,\n",
              " 'E': 3,\n",
              " 'F': 4,\n",
              " 'G': 5,\n",
              " 'H': 6,\n",
              " 'I': 7,\n",
              " 'K': 8,\n",
              " 'L': 9,\n",
              " 'M': 10,\n",
              " 'N': 11,\n",
              " 'P': 12,\n",
              " 'Q': 13,\n",
              " 'R': 14,\n",
              " 'S': 15,\n",
              " 'T': 16,\n",
              " 'V': 17,\n",
              " 'W': 18,\n",
              " 'Y': 19}"
            ]
          },
          "metadata": {},
          "execution_count": 29
        }
      ],
      "source": [
        "#character level tokenization. encoder and decoder\n",
        "chtoi = {char: ind for ind, char in enumerate(chars)} #character to integer\n",
        "itoch = {ind:char for ind, char in enumerate(chars)} #integer to character\n",
        "encode = lambda text: [chtoi[char] for char in text] #encoder function\n",
        "decode = lambda en_list: ''.join(itoch[integer] for integer in en_list) #decoder function\n",
        "chtoi"
      ]
    },
    {
      "cell_type": "code",
      "execution_count": 30,
      "metadata": {
        "id": "UPUMdMZjY8Vh"
      },
      "outputs": [],
      "source": [
        "tokenize_data = torch.tensor(encode(aa_seq), dtype = torch.int64) #store encoded data(string sequence of amino acids) into a tensor"
      ]
    },
    {
      "cell_type": "code",
      "execution_count": 33,
      "metadata": {
        "id": "ftHJMsEgY8Vh"
      },
      "outputs": [],
      "source": [
        "#split data to train and validation set\n",
        "train_len = int(len(tokenize_data)*0.9)\n",
        "train_set = tokenize_data[:train_len] #90% of data -> train set\n",
        "valid_set = tokenize_data[train_len:] #10% of data -> validation set"
      ]
    },
    {
      "cell_type": "code",
      "execution_count": 34,
      "metadata": {
        "id": "iCulC36AY8Vh"
      },
      "outputs": [],
      "source": [
        "#the length of chunk of data that we train the model with everytime\n",
        "block_size = 8\n",
        "input_data = train_set[0:block_size] #input data, chunk of the data with the length of block_size\n",
        "pos_out = train_set[1:block_size+1] #possible outcome for each of the tokens in the input data"
      ]
    },
    {
      "cell_type": "code",
      "execution_count": 38,
      "metadata": {
        "colab": {
          "base_uri": "https://localhost:8080/"
        },
        "id": "h23AprWwY8Vh",
        "outputId": "e81ec3ba-c97a-4a27-9605-988439d3c7c2"
      },
      "outputs": [
        {
          "output_type": "stream",
          "name": "stdout",
          "text": [
            "when input is tensor([10]) the target: 17\n",
            "when input is tensor([10, 17]) the target: 6\n",
            "when input is tensor([10, 17,  6]) the target: 9\n",
            "when input is tensor([10, 17,  6,  9]) the target: 16\n",
            "when input is tensor([10, 17,  6,  9, 16]) the target: 12\n",
            "when input is tensor([10, 17,  6,  9, 16, 12]) the target: 3\n",
            "when input is tensor([10, 17,  6,  9, 16, 12,  3]) the target: 3\n",
            "when input is tensor([10, 17,  6,  9, 16, 12,  3,  3]) the target: 8\n"
          ]
        }
      ],
      "source": [
        "x= train_set[0:block_size]\n",
        "y= train_set[1:block_size+1]\n",
        "for t in range(block_size):\n",
        "  context= x[:t+1]\n",
        "  target= y[t]\n",
        "  print(f\"when input is {context} the target: {target}\")"
      ]
    },
    {
      "cell_type": "code",
      "execution_count": 42,
      "metadata": {
        "colab": {
          "base_uri": "https://localhost:8080/"
        },
        "id": "HKRqDLScY8Vi",
        "outputId": "36f26520-8cbb-48d7-8d56-15493e10a40d"
      },
      "outputs": [
        {
          "output_type": "stream",
          "name": "stdout",
          "text": [
            "inputs:\n",
            "torch.Size([4, 8])\n",
            "tensor([[17,  5, 18,  4,  9,  5, 18,  2],\n",
            "        [14, 14,  6,  8, 17, 15, 17,  6],\n",
            "        [17, 10,  7, 12, 14, 14, 12, 14],\n",
            "        [17, 19, 12, 18, 16, 13, 14,  4]])\n",
            "targets:\n",
            "torch.Size([4, 8])\n",
            "tensor([[ 5, 18,  4,  9,  5, 18,  2,  2],\n",
            "        [14,  6,  8, 17, 15, 17,  6, 17],\n",
            "        [10,  7, 12, 14, 14, 12, 14,  3],\n",
            "        [19, 12, 18, 16, 13, 14,  4,  4]])\n",
            "————\n",
            " when input is (context.tolist()) the target: 5\n",
            " when input is (context.tolist()) the target: 18\n",
            " when input is (context.tolist()) the target: 4\n",
            " when input is (context.tolist()) the target: 9\n",
            " when input is (context.tolist()) the target: 5\n",
            " when input is (context.tolist()) the target: 18\n",
            " when input is (context.tolist()) the target: 2\n",
            " when input is (context.tolist()) the target: 2\n",
            " when input is (context.tolist()) the target: 14\n",
            " when input is (context.tolist()) the target: 6\n",
            " when input is (context.tolist()) the target: 8\n",
            " when input is (context.tolist()) the target: 17\n",
            " when input is (context.tolist()) the target: 15\n",
            " when input is (context.tolist()) the target: 17\n",
            " when input is (context.tolist()) the target: 6\n",
            " when input is (context.tolist()) the target: 17\n",
            " when input is (context.tolist()) the target: 10\n",
            " when input is (context.tolist()) the target: 7\n",
            " when input is (context.tolist()) the target: 12\n",
            " when input is (context.tolist()) the target: 14\n",
            " when input is (context.tolist()) the target: 14\n",
            " when input is (context.tolist()) the target: 12\n",
            " when input is (context.tolist()) the target: 14\n",
            " when input is (context.tolist()) the target: 3\n",
            " when input is (context.tolist()) the target: 19\n",
            " when input is (context.tolist()) the target: 12\n",
            " when input is (context.tolist()) the target: 18\n",
            " when input is (context.tolist()) the target: 16\n",
            " when input is (context.tolist()) the target: 13\n",
            " when input is (context.tolist()) the target: 14\n",
            " when input is (context.tolist()) the target: 4\n",
            " when input is (context.tolist()) the target: 4\n"
          ]
        }
      ],
      "source": [
        "torch.manual_seed (1337)\n",
        "batch_size = 4 # how many independent sequences will we process in para block_size = 8 # what is the maximum context length for predictions?\n",
        "\n",
        "def get_batch(split): \n",
        "  # generate a small batch of data of inputs x and targets y \n",
        "  data = train_set if split == 'train' else valid_set \n",
        "  ix = torch.randint(len(data)- block_size, (batch_size,)) \n",
        "  x = torch.stack ( [data [i:i+block_size] for i in ix]) \n",
        "  y = torch.stack( [data[i+1:i+block_size+1] for i in ix])\n",
        "  return x, y\n",
        "\n",
        "xb, yb = get_batch('train') \n",
        "print('inputs:')\n",
        "print(xb.shape)\n",
        "print(xb)\n",
        "print('targets:') \n",
        "print(yb.shape)\n",
        "print(yb)\n",
        "\n",
        "print('————')\n",
        "\n",
        "for b in range(batch_size): \n",
        "  # batch dimension \n",
        "  for t in range(block_size): \n",
        "    # time dimension\n",
        "    context = xb [b, :t+1]\n",
        "    target = yb [b,t]\n",
        "    print (f\" when input is (context.tolist()) the target: {target}\")"
      ]
    },
    {
      "cell_type": "code",
      "source": [
        "#input for transformer\n",
        "print(xb)"
      ],
      "metadata": {
        "colab": {
          "base_uri": "https://localhost:8080/"
        },
        "id": "8ZLgn0ntcmZJ",
        "outputId": "fecd85f4-8722-4ba4-952b-c85e2fcb23fa"
      },
      "execution_count": 44,
      "outputs": [
        {
          "output_type": "stream",
          "name": "stdout",
          "text": [
            "tensor([[17,  5, 18,  4,  9,  5, 18,  2],\n",
            "        [14, 14,  6,  8, 17, 15, 17,  6],\n",
            "        [17, 10,  7, 12, 14, 14, 12, 14],\n",
            "        [17, 19, 12, 18, 16, 13, 14,  4]])\n"
          ]
        }
      ]
    },
    {
      "cell_type": "code",
      "source": [
        "import torch\n",
        "import torch.nn as nn\n",
        "from torch.nn import functional as F \n"
      ],
      "metadata": {
        "id": "uyg9PNIcc8QL"
      },
      "execution_count": 46,
      "outputs": []
    },
    {
      "cell_type": "code",
      "source": [
        "torch.manual_seed (1337)\n"
      ],
      "metadata": {
        "colab": {
          "base_uri": "https://localhost:8080/"
        },
        "id": "jxD4iew1dXu1",
        "outputId": "ca381bbe-bb0d-4683-c50a-8086c0c41506"
      },
      "execution_count": 47,
      "outputs": [
        {
          "output_type": "execute_result",
          "data": {
            "text/plain": [
              "<torch._C.Generator at 0x7f8c4af08af0>"
            ]
          },
          "metadata": {},
          "execution_count": 47
        }
      ]
    },
    {
      "cell_type": "code",
      "source": [
        "class BigramLanguageModel(nn.Module):\n",
        "  \n",
        "  def __init__(self, vocab_size):\n",
        "    super().__init__()  # each token directly reads off the logits for the next token from a lookup table \n",
        "    self.token_embedding_table = nn.Embedding(vocab_size, vocab_size)\n",
        "\n",
        "  def forward(self, idx, targets):\n",
        "    # idx and targets are both (B, T) tensor of integers \n",
        "    logits= self.token_embedding_table(idx) # (B,T,C)\n",
        "\n",
        "    B,T,C= logits.shape\n",
        "    logits=  logits.view(B*T, C)\n",
        "    targets= targets.view(B*T)\n",
        "    loss= F.cross_entropy(logits, targets)\n",
        "\n",
        "    return logits,loss\n",
        "\n",
        "m = BigramLanguageModel(vocab_size)\n",
        "logits, loss = m(xb, yb)\n",
        "\n",
        "print(logits.shape)\n",
        "print(loss.shape)"
      ],
      "metadata": {
        "colab": {
          "base_uri": "https://localhost:8080/"
        },
        "id": "1auUsRggdS7B",
        "outputId": "f0da60d2-be18-44e2-b818-3792efd421f5"
      },
      "execution_count": 56,
      "outputs": [
        {
          "output_type": "stream",
          "name": "stdout",
          "text": [
            "torch.Size([32, 20])\n",
            "torch.Size([])\n"
          ]
        }
      ]
    },
    {
      "cell_type": "code",
      "source": [
        "#rewrite the above code: with generate function for logs\n",
        "class BigramLanguageModel(nn.Module):\n",
        "  \n",
        "  def __init__(self, vocab_size):\n",
        "    super().__init__()  # each token directly reads off the logits for the next token from a lookup table \n",
        "    self.token_embedding_table = nn.Embedding(vocab_size, vocab_size)\n",
        "\n",
        "  def forward(self, idx, targets= None):\n",
        "    # idx and targets are both (B, T) tensor of integers \n",
        "    logits= self.token_embedding_table(idx) # (B,T,C)\n",
        "    if targets is None:\n",
        "      loss= None\n",
        "    else:\n",
        "      B,T,C= logits.shape\n",
        "      logits=  logits.view(B*T, C)\n",
        "      targets= targets.view(B*T)\n",
        "      loss= F.cross_entropy(logits, targets)\n",
        "\n",
        "    return logits,loss\n",
        "\n",
        "  def generate(self, idx, max_new_tokens):\n",
        "    # idx is (BIT) array of indices in the current context\n",
        "    for _ in range (max_new_tokens):\n",
        "      # get the predictions\n",
        "      logits, loss =self(idx)\n",
        "      # focus only on the last time step\n",
        "      logits = logits[:, -1, :] # becomes (B, C)\n",
        "      # apply softmax to get probabilities\n",
        "      probs = F.softmax(logits, dim=-1) # (B, C) sample from the distribution\n",
        "      idx_next = torch.multinomial (probs, num_samples=1) # (B, 1)\n",
        "      # append sampled index to the running sequence idx= torch.cat ((idx, idx_next), dim=1) # (B, T+1)\n",
        "    return idx\n",
        "\n",
        "  \n",
        "m = BigramLanguageModel(vocab_size)\n",
        "logits, loss = m(xb, yb)\n",
        "\n",
        "print(logits.shape)\n",
        "print(loss.shape)"
      ],
      "metadata": {
        "colab": {
          "base_uri": "https://localhost:8080/"
        },
        "id": "q8wMzb1qdlei",
        "outputId": "f0b4a3b2-a21d-4c6b-a8c1-516b2523c453"
      },
      "execution_count": 75,
      "outputs": [
        {
          "output_type": "stream",
          "name": "stdout",
          "text": [
            "torch.Size([32, 20])\n",
            "torch.Size([])\n"
          ]
        }
      ]
    },
    {
      "cell_type": "code",
      "source": [
        "print(decode(m.generate(idx = torch.zeros((1, 1), dtype=torch.long), max_new_tokens=100)[0].tolist()))"
      ],
      "metadata": {
        "colab": {
          "base_uri": "https://localhost:8080/"
        },
        "id": "V4lyfrPLgfMz",
        "outputId": "c14115f6-11d2-45a4-ec24-e1e0552aa471"
      },
      "execution_count": 76,
      "outputs": [
        {
          "output_type": "stream",
          "name": "stdout",
          "text": [
            "A\n"
          ]
        }
      ]
    },
    {
      "cell_type": "code",
      "source": [
        "optimizer= torch.optim.Adam(m.parameters(), lr= 1e-3)#ceate pytorch optimizer"
      ],
      "metadata": {
        "id": "7wIn4_Qih_uO"
      },
      "execution_count": 77,
      "outputs": []
    },
    {
      "cell_type": "code",
      "source": [
        "batch_size = 32\n",
        "for steps in range(1000):\n",
        "# sample a batch of data xb, yb = get_batch('train')\n",
        "# evaluate the loss \n",
        "  logits, loss = m(xb, yb) \n",
        "  optimizer.zero_grad (set_to_none=True)\n",
        "  loss.backward()\n",
        "  optimizer.step()\n",
        "\n",
        "print(loss.item())"
      ],
      "metadata": {
        "colab": {
          "base_uri": "https://localhost:8080/"
        },
        "id": "9S9pImxOkFox",
        "outputId": "5bcf77b7-1eda-4b51-b4db-1115a7cdacc6"
      },
      "execution_count": 86,
      "outputs": [
        {
          "output_type": "stream",
          "name": "stdout",
          "text": [
            "0.7937732338905334\n"
          ]
        }
      ]
    },
    {
      "cell_type": "code",
      "source": [
        "print(decode(m.generate(idx = torch.zeros((1, 1), dtype=torch.long), max_new_tokens=300)[0].tolist()))"
      ],
      "metadata": {
        "colab": {
          "base_uri": "https://localhost:8080/"
        },
        "id": "7XlYZXP4kbEv",
        "outputId": "7e9f22ac-e2e8-4ea0-cd01-b7c025013876"
      },
      "execution_count": 89,
      "outputs": [
        {
          "output_type": "stream",
          "name": "stdout",
          "text": [
            "A\n"
          ]
        }
      ]
    },
    {
      "cell_type": "code",
      "source": [],
      "metadata": {
        "id": "cxKQfKyGleiP"
      },
      "execution_count": null,
      "outputs": []
    }
  ],
  "metadata": {
    "kernelspec": {
      "display_name": "gpt-protein",
      "language": "python",
      "name": "gpt-protein"
    },
    "language_info": {
      "codemirror_mode": {
        "name": "ipython",
        "version": 3
      },
      "file_extension": ".py",
      "mimetype": "text/x-python",
      "name": "python",
      "nbconvert_exporter": "python",
      "pygments_lexer": "ipython3",
      "version": "3.8.10"
    },
    "colab": {
      "provenance": []
    }
  },
  "nbformat": 4,
  "nbformat_minor": 0
}