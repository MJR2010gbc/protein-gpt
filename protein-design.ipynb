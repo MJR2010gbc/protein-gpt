{
 "cells": [
  {
   "cell_type": "code",
   "execution_count": 2,
   "metadata": {
    "_cell_guid": "b1076dfc-b9ad-4769-8c92-a6c4dae69d19",
    "_uuid": "8f2839f25d086af736a60e9eeb907d3b93b6e0e5"
   },
   "outputs": [],
   "source": [
    "import numpy as np\n",
    "import pandas as pd\n",
    "import torch\n",
    "import torch\n",
    "import torch.nn as nn\n",
    "from torch.nn import functional as F"
   ]
  },
  {
   "cell_type": "code",
   "execution_count": 3,
   "metadata": {},
   "outputs": [],
   "source": [
    "proteins = pd.DataFrame(columns = ['amino acid','gene', 'protein'])"
   ]
  },
  {
   "cell_type": "markdown",
   "metadata": {},
   "source": [
    "### Add Hemoglobin proteins in human body"
   ]
  },
  {
   "cell_type": "code",
   "execution_count": 4,
   "metadata": {},
   "outputs": [],
   "source": [
    "proteins.loc[0] = ['MVHLTPEEKSAVTALWGKVNVDEVGGEALGRLLVVYPWTQRFFESFGDLSTPDAVMGNPK\\\n",
    "VKAHGKKVLGAFSDGLAHLDNLKGTFATLSELHCDKLHVDPENFRLLGNVLVCVLAHHFG\\\n",
    "KEFTPPVQAAYQKVVAGVANALAHKYH', 'HBB', 'Hemoglobin subunit beta']"
   ]
  },
  {
   "cell_type": "code",
   "execution_count": 5,
   "metadata": {},
   "outputs": [],
   "source": [
    "proteins.loc[1] = ['MVHLTPEEKTAVNALWGKVNVDAVGGEALGRLLVVYPWTQRFFESFGDLSSPDAVMGNPK\\\n",
    "VKAHGKKVLGAFSDGLAHLDNLKGTFSQLSELHCDKLHVDPENFRLLGNVLVCVLARNFG\\\n",
    "KEFTPQMQAAYQKVVAGVANALAHKYH', 'HBD', 'Hemoglobin subunit delta']"
   ]
  },
  {
   "cell_type": "code",
   "execution_count": 6,
   "metadata": {},
   "outputs": [],
   "source": [
    "proteins.loc[2] = ['MVHFTAEEKAAVTSLWSKMNVEEAGGEALGRLLVVYPWTQRFFDSFGNLSSPSAILGNPK\\\n",
    "VKAHGKKVLTSFGDAIKNMDNLKPAFAKLSELHCDKLHVDPENFKLLGNVMVIILATHFG\\\n",
    "KEFTPEVQAAWQKLVSAVAIALAHKYH', 'HBE1', 'Hemoglobin subunit epsilon']"
   ]
  },
  {
   "cell_type": "code",
   "execution_count": 7,
   "metadata": {},
   "outputs": [],
   "source": [
    "proteins.loc[3] = ['MSLTKTERTIIVSMWAKISTQADTIGTETLERLFLSHPQTKTYFPHFDLHPGSAQLRAHG\\\n",
    "SKVVAAVGDAVKSIDDIGGALSKLSELHAYILRVDPVNFKLLSHCLLVTLAARFPADFTA\\\n",
    "EAHAAWDKFLSVVSSVLTEKYR', 'HBZ', 'Hemoglobin subunit zeta']"
   ]
  },
  {
   "cell_type": "code",
   "execution_count": 8,
   "metadata": {},
   "outputs": [],
   "source": [
    "proteins.loc[4] = ['MGHFTEEDKATITSLWGKVNVEDAGGETLGRLLVVYPWTQRFFDSFGNLSSASAIMGNPK\\\n",
    "VKAHGKKVLTSLGDAIKHLDDLKGTFAQLSELHCDKLHVDPENFKLLGNVLVTVLAIHFG\\\n",
    "KEFTPEVQASWQKMVTGVASALSSRYH', 'HBG2', 'Hemoglobin subunit gamma-2']"
   ]
  },
  {
   "cell_type": "code",
   "execution_count": 9,
   "metadata": {},
   "outputs": [],
   "source": [
    "proteins.loc[5] = ['MVLSPADKTNVKAAWGKVGAHAGEYGAEALERMFLSFPTTKTYFPHFDLSHGSAQVKGHG\\\n",
    "KKVADALTNAVAHVDDMPNALSALSDLHAHKLRVDPVNFKLLSHCLLVTLAAHLPAEFTP\\\n",
    "AVHASLDKFLASVSTVLTSKYR', 'HBA1', 'Hemoglobin subunit alpha']"
   ]
  },
  {
   "cell_type": "markdown",
   "metadata": {},
   "source": [
    "### Add Insulin proteins in human body"
   ]
  },
  {
   "cell_type": "code",
   "execution_count": 10,
   "metadata": {},
   "outputs": [],
   "source": [
    "proteins.loc[6] = ['MATGGRRGAAAAPLLVAVAALLLGAAGHLYPGEVCPGMDIRNNLTRLHELENCSVIEGHL\\\n",
    "QILLMFKTRPEDFRDLSFPKLIMITDYLLLFRVYGLESLKDLFPNLTVIRGSRLFFNYAL\\\n",
    "VIFEMVHLKELGLYNLMNITRGSVRIEKNNELCYLATIDWSRILDSVEDNYIVLNKDDNE\\\n",
    "ECGDICPGTAKGKTNCPATVINGQFVERCWTHSHCQKVCPTICKSHGCTAEGLCCHSECL\\\n",
    "GNCSQPDDPTKCVACRNFYLDGRCVETCPPPYYHFQDWRCVNFSFCQDLHHKCKNSRRQG\\\n",
    "CHQYVIHNNKCIPECPSGYTMNSSNLLCTPCLGPCPKVCHLLEGEKTIDSVTSAQELRGC\\\n",
    "TVINGSLIINIRGGNNLAAELEANLGLIEEISGYLKIRRSYALVSLSFFRKLRLIRGETL\\\n",
    "EIGNYSFYALDNQNLRQLWDWSKHNLTITQGKLFFHYNPKLCLSEIHKMEEVSGTKGRQE\\\n",
    "RNDIALKTNGDQASCENELLKFSYIRTSFDKILLRWEPYWPPDFRDLLGFMLFYKEAPYQ\\\n",
    "NVTEFDGQDACGSNSWTVVDIDPPLRSNDPKSQNHPGWLMRGLKPWTQYAIFVKTLVTFS\\\n",
    "DERRTYGAKSDIIYVQTDATNPSVPLDPISVSNSSSQIILKWKPPSDPNGNITHYLVFWE\\\n",
    "RQAEDSELFELDYCLKGLKLPSRTWSPPFESEDSQKHNQSEYEDSAGECCSCPKTDSQIL\\\n",
    "KELEESSFRKTFEDYLHNVVFVPRKTSSGTGAEDPRPSRKRRSLGDVGNVTVAVPTVAAF\\\n",
    "PNTSSTSVPTSPEEHRPFEKVVNKESLVISGLRHFTGYRIELQACNQDTPEERCSVAAYV\\\n",
    "SARTMPEAKADDIVGPVTHEIFENNVVHLMWQEPKEPNGLIVLYEVSYRRYGDEELHLCV\\\n",
    "SRKHFALERGCRLRGLSPGNYSVRIRATSLAGNGSWTEPTYFYVTDYLDVPSNIAKIIIG\\\n",
    "PLIFVFLFSVVIGSIYLFLRKRQPDGPLGPLYASSNPEYLSASDVFPCSVYVPDEWEVSR\\\n",
    "EKITLLRELGQGSFGMVYEGNARDIIKGEAETRVAVKTVNESASLRERIEFLNEASVMKG\\\n",
    "FTCHHVVRLLGVVSKGQPTLVVMELMAHGDLKSYLRSLRPEAENNPGRPPPTLQEMIQMA\\\n",
    "AEIADGMAYLNAKKFVHRDLAARNCMVAHDFTVKIGDFGMTRDIYETDYYRKGGKGLLPV\\\n",
    "RWMAPESLKDGVFTTSSDMWSFGVVLWEITSLAEQPYQGLSNEQVLKFVMDGGYLDQPDN\\\n",
    "CPERVTDLMRMCWQFNPKMRPTFLEIVNLLKDDLHPSFPEVSFFHSEENKAPESEELEME\\\n",
    "FEDMENVPLDRSSHCQREEAGGRDGGSSLGFKRSYEEHIPYTHMNGGKKNGRILTLPRSN\\\n",
    "PS', 'INSR', 'Insulin receptor']"
   ]
  },
  {
   "cell_type": "code",
   "execution_count": 11,
   "metadata": {},
   "outputs": [],
   "source": [
    "proteins.loc[6] = ['MRYRLAWLLHPALPSTFRSVLGARLPPPERLCGFQKKTYSKMNNPAIKRIGNHITKSPED\\\n",
    "KREYRGLELANGIKVLLISDPTTDKSSAALDVHIGSLSDPPNIAGLSHFCEHMLFLGTKK\\\n",
    "YPKENEYSQFLSEHAGSSNAFTSGEHTNYYFDVSHEHLEGALDRFAQFFLCPLFDESCKD\\\n",
    "REVNAVDSEHEKNVMNDAWRLFQLEKATGNPKHPFSKFGTGNKYTLETRPNQEGIDVRQE\\\n",
    "LLKFHSAYYSSNLMAVCVLGRESLDDLTNLVVKLFSEVENKNVPLPEFPEHPFQEEHLKQ\\\n",
    "LYKIVPIKDIRNLYVTFPIPDLQKYYKSNPGHYLGHLIGHEGPGSLLSELKSKGWVNTLV\\\n",
    "GGQKEGARGFMFFIINVDLTEEGLLHVEDIILHMFQYIQKLRAEGPQEWVFQECKDLNAV\\\n",
    "AFRFKDKERPRGYTSKIAGILHYYPLEEVLTAEYLLEEFRPDLIEMVLDKLRPENVRVAI\\\n",
    "VSKSFEGKTDRTEEWYGTQYKQEAIPDEVIKKWQNADLNGKFKLPTKNEFIPTNFEILPL\\\n",
    "EKEATPYPALIKDTAMSKLWFKQDDKFFLPKACLNFEFFSPFAYVDPLHCNMAYLYLELL\\\n",
    "KDSLNEYAYAAELAGLSYDLQNTIYGMYLSVKGYNDKQPILLKKIIEKMATFEIDEKRFE\\\n",
    "IIKEAYMRSLNNFRAEQPHQHAMYYLRLLMTEVAWTKDELKEALDDVTLPRLKAFIPQLL\\\n",
    "SRLHIEALLHGNITKQAALGIMQMVEDTLIEHAHTKPLLPSQLVRYREVQLPDRGWFVYQ\\\n",
    "QRNEVHNNCGIEIYYQTDMQSTSENMFLELFCQIISEPCFNTLRTKEQLGYIVFSGPRRA\\\n",
    "NGIQGLRFIIQSEKPPHYLESRVEAFLITMEKSIEDMTEEAFQKHIQALAIRRLDKPKKL\\\n",
    "SAECAKYWGEIISQQYNFDRDNTEVAYLKTLTKEDIIKFYKEMLAVDAPRRHKVSVHVLA\\\n",
    "REMDSCPVVGEFPCQNDINLSQAPALPQPEVIQNMTEFKRGLPLFPLVKPHINFMAAKL', 'IDE', 'Insulin-degrading enzyme']"
   ]
  },
  {
   "cell_type": "code",
   "execution_count": 12,
   "metadata": {},
   "outputs": [],
   "source": [
    "proteins.loc[7] = ['MALWMRLLPLLALLALWGPDPAAAFVNQHLCGSHLVEALYLVCGERGFFYTPKTRREAED\\\n",
    "LQVGQVELGGGPGAGSLQPLALEGSLQKRGIVEQCCTSICSLYQLENYCN', 'INS', 'Insulin']"
   ]
  },
  {
   "cell_type": "code",
   "execution_count": 13,
   "metadata": {},
   "outputs": [],
   "source": [
    "proteins.loc[7] = ['MALWMRLLPLLALLALWGPDPAAAFVNQHLCGSHLVEALYLVCGERGFFYTPKTRREAED\\\n",
    "LQVGQVELGGGPGAGSLQPLALEGSLQKRGIVEQCCTSICSLYQLENYCN', 'INS', 'Insulin']"
   ]
  },
  {
   "cell_type": "markdown",
   "metadata": {},
   "source": [
    "### Add Actin proteins in human body"
   ]
  },
  {
   "cell_type": "code",
   "execution_count": 14,
   "metadata": {},
   "outputs": [],
   "source": [
    "proteins.loc[7] = ['MAPHRPAPALLCALSLALCALSLPVRAATASRGASQAGAPQGRVPEARPNSMVVEHPEFL\\\n",
    "KAGKEPGLQIWRVEKFDLVPVPTNLYGDFFTGDAYVILKTVQLRNGNLQYDLHYWLGNEC\\\n",
    "SQDESGAAAIFTVQLDDYLNGRAVQHREVQGFESATFLGYFKSGLKYKKGGVASGFKHVV\\\n",
    "PNEVVVQRLFQVKGRRVVRATEVPVSWESFNNGDCFILDLGNNIHQWCGSNSNRYERLKA\\\n",
    "TQVSKGIRDNERSGRARVHVSEEGTEPEAMLQVLGPKPALPAGTEDTAKEDAANRKLAKL\\\n",
    "YKVSNGAGTMSVSLVADENPFAQGALKSEDCFILDHGKDGKIFVWKGKQANTEERKAALK\\\n",
    "TASDFITKMDYPKQTQVSVLPEGGETPLFKQFFKNWRDPDQTDGLGLSYLSSHIANVERV\\\n",
    "PFDAATLHTSTAMAAQHGMDDDGTGQKQIWRIEGSNKVPVDPATYGQFYGGDSYIILYNY\\\n",
    "RHGGRQGQIIYNWQGAQSTQDEVAASAILTAQLDEELGGTPVQSRVVQGKEPAHLMSLFG\\\n",
    "GKPMIIYKGGTSREGGQTAPASTRLFQVRANSAGATRAVEVLPKAGALNSNDAFVLKTPS\\\n",
    "AAYLWVGTGASEAEKTGAQELLRVLRAQPVQVAEGSEPDGFWEALGGKAAYRTSPRLKDK\\\n",
    "KMDAHPPRLFACSNKIGRFVIEEVPGELMQEDLATDDVMLLDTWDQVFVWVGKDSQEEEK\\\n",
    "TEALTSAKRYIETDPANRDRRTPITVVKQGFEPPSFVGWFLGWDDDYWSVDPLDRAMAEL\\\n",
    "AA', 'GSN', 'Gelsolin']"
   ]
  },
  {
   "cell_type": "code",
   "execution_count": 15,
   "metadata": {},
   "outputs": [],
   "source": [
    "proteins.loc[8] = ['MEEVPGDALCEHFEANILTQNRCQNCFHPEEAHGARYQELRSPSGAEVPYCDLPRCPPAP\\\n",
    "EDPLSASTSGCQSVVDPGLRPGPKRGPSPSAGLPEEGPTAAPRSRSRELEAVPYLEGLTT\\\n",
    "SLCGSCNEDPGSDPTSSPDSATPDDTSNSSSVDWDTVERQEEEAPSWDELAVMIPRRPRE\\\n",
    "GPRADSSQRAPSLLTRSPVGGDAAGQKKEDTGGGGRSAGQHWARLRGESGLSLERHRSTL\\\n",
    "TQASSMTPHSGPRSTTSQASPAQRDTAQAASTREIPRASSPHRITQRDTSRASSTQQEIS\\\n",
    "RASSTQQETSRASSTQEDTPRASSTQEDTPRASSTQWNTPRASSPSRSTQLDNPRTSSTQ\\\n",
    "QDNPQTSFPTCTPQRENPRTPCVQQDDPRASSPNRTTQRENSRTSCAQRDNPKASRTSSP\\\n",
    "NRATRDNPRTSCAQRDNPRASSPSRATRDNPTTSCAQRDNPRASRTSSPNRATRDNPRTS\\\n",
    "CAQRDNPRASSPSRATRDNPTTSCAQRDNPRASRTSSPNRATRDNPRTSCAQRDNPRASS\\\n",
    "PNRAARDNPTTSCAQRDNPRASRTSSPNRATRDNPRTSCAQRDNPRASSPNRATRDNPTT\\\n",
    "SCAQRDNPRASRTSSPNRATRDNPRTSCAQRDNPRASSPNRTTQQDSPRTSCARRDDPRA\\\n",
    "SSPNRTIQQENPRTSCALRDNPRASSPSRTIQQENPRTSCAQRDDPRASSPNRTTQQENP\\\n",
    "RTSCARRDNPRASSRNRTIQRDNPRTSCAQRDNPRASSPNRTIQQENLRTSCTRQDNPRT\\\n",
    "SSPNRATRDNPRTSCAQRDNLRASSPIRATQQDNPRTCIQQNIPRSSSTQQDNPKTSCTK\\\n",
    "RDNLRPTCTQRDRTQSFSFQRDNPGTSSSQCCTQKENLRPSSPHRSTQWNNPRNSSPHRT\\\n",
    "NKDIPWASFPLRPTQSDGPRTSSPSRSKQSEVPWASIALRPTQGDRPQTSSPSRPAQHDP\\\n",
    "PQSSFGPTQYNLPSRATSSSHNPGHQSTSRTSSPVYPAAYGAPLTSPEPSQPPCAVCIGH\\\n",
    "RDAPRASSPPRYLQHDPFPFFPEPRAPESEPPHHEPPYIPPAVCIGHRDAPRASSPPRHT\\\n",
    "QFDPFPFLPDTSDAEHQCQSPQHEPLQLPAPVCIGYRDAPRASSPPRQAPEPSLLFQDLP\\\n",
    "RASTESLVPSMDSLHECPHIPTPVCIGHRDAPSFSSPPRQAPEPSLFFQDPPGTSMESLA\\\n",
    "PSTDSLHGSPVLIPQVCIGHRDAPRASSPPRHPPSDLAFLAPSPSPGSSGGSRGSAPPGE\\\n",
    "TRHNLEREEYTVLADLPPPRRLAQRQPGPQAQCSSGGRTHSPGRAEVERLFGQERRKSEA\\\n",
    "AGAFQAQDEGRSQQPSQGQSQLLRRQSSPAPSRQVTMLPAKQAELTRRSQAEPPHPWSPE\\\n",
    "KRPEGDRQLQGSPLPPRTSARTPERELRTQRPLESGQAGPRQPLGVWQSQEEPPGSQGPH\\\n",
    "RHLERSWSSQEGGLGPGGWWGCGEPSLGAAKAPEGAWGGTSREYKESWGQPEAWEEKPTH\\\n",
    "ELPRELGKRSPLTSPPENWGGPAESSQSWHSGTPTAVGWGAEGACPYPRGSERRPELDWR\\\n",
    "DLLGLLRAPGEGVWARVPSLDWEGLLELLQARLPRKDPAGHRDDLARALGPELGPPGTND\\\n",
    "VPEQESHSQPEGWAEATPVNGHSPALQSQSPVQLPSPACTSTQWPKIKVTRGPATATLAG\\\n",
    "LEQTGPLGSRSTAKGPSLPELQFQPEEPEESEPSRGQDPLTDQKQADSADKRPAEGKAGS\\\n",
    "PLKGRLVTSWRMPGDRPTLFNPFLLSLGVLRWRRPDLLNFKKGWMSILDEPGEPPSPSLT\\\n",
    "TTSTSQWKKHWFVLTDSSLKYYRDSTAEEADELDGEIDLRSCTDVTEYAVQRNYGFQIHT\\\n",
    "KDAVYTLSAMTSGIRRNWIEALRKTVRPTSAPDVTKLSDSNKENALHSYSTQKGPLKAGE\\\n",
    "QRAGSEVISRGGPRKADGQRQALDYVELSPLTQASPQRARTPARTPDRLAKQEELERDLA\\\n",
    "QRSEERRKWFEATDSRTPEVPAGEGPRRGLGAPLTEDQQNRLSEEIEKKWQELEKLPLRE\\\n",
    "NKRVPLTALLNQSRGERRGPPSDGHEALEKEVQALRAQLEAWRLQGEAPQSALRSQEDGH\\\n",
    "IPPGYISQEACERSLAEMESSHQQVMEELQRHHERELQRLQQEKEWLLAEETAATASAIE\\\n",
    "AMKKAYQEELSRELSKTRSLQQGPDGLRKQHQSDVEALKRELQVLSEQYSQKCLEIGALM\\\n",
    "RQAEEREHTLRRCQQEGQELLRHNQELHGRLSEEIDQLRGFIASQGMGNGCGRSNERSSC\\\n",
    "ELEVLLRVKENELQYLKKEVQCLRDELQMMQKDKRFTSGKYQDVYVELSHIKTRSEREIE\\\n",
    "QLKEHLRLAMAALQEKESMRNSLAE', 'TRIOBP', 'TRIO and F-actin-binding protein']"
   ]
  },
  {
   "cell_type": "code",
   "execution_count": 16,
   "metadata": {},
   "outputs": [],
   "source": [
    "proteins.loc[9] = ['MGKKSRVKTQKSGTGATATVSPKEILNLTSELLQKCSSPAPGPGKEWEEYVQIRTLVEKI\\\n",
    "RKKQKGLSVTFDGKREDYFPDLMKWASENGASVEGFEMVNFKEEGFGLRATRDIKAEELF\\\n",
    "LWVPRKLLMTVESAKNSVLGPLYSQDRILQAMGNIALAFHLLCERASPNSFWQPYIQTLP\\\n",
    "SEYDTPLYFEEDEVRYLQSTQAIHDVFSQYKNTARQYAYFYKVIQTHPHANKLPLKDSFT\\\n",
    "YEDYRWAVSSVMTRQNQIPTEDGSRVTLALIPLWDMCNHTNGLITTGYNLEDDRCECVAL\\\n",
    "QDFRAGEQIYIFYGTRSNAEFVIHSGFFFDNNSHDRVKIKLGVSKSDRLYAMKAEVLARA\\\n",
    "GIPTSSVFALHFTEPPISAQLLAFLRVFCMTEEELKEHLLGDSAIDRIFTLGNSEFPVSW\\\n",
    "DNEVKLWTFLEDRASLLLKTYKTTIEEDKSVLKNHDLSVRAKMAIKLRLGEKEILEKAVK\\\n",
    "SAAVNREYYRQQMEEKAPLPKYEESNLGLLESSVGDSRLPLVLRNLEEEAGVQDALNIRE\\\n",
    "AISKAKATENGLVNGENSIPNGTRSENESLNQESKRAVEDAKGSSSDSTAGVKE', 'SETD3', 'Actin-histidine N-methyltransferase']"
   ]
  },
  {
   "cell_type": "code",
   "execution_count": 17,
   "metadata": {},
   "outputs": [],
   "source": [
    "proteins.loc[10] = ['MDDDIAALVVDNGSGMCKAGFAGDDAPRAVFPSIVGRPRHQGVMVGMGQKDSYVGDEAQS\\\n",
    "KRGILTLKYPIEHGIVTNWDDMEKIWHHTFYNELRVAPEEHPVLLTEAPLNPKANREKMT\\\n",
    "QIMFETFNTPAMYVAIQAVLSLYASGRTTGIVMDSGDGVTHTVPIYEGYALPHAILRLDL\\\n",
    "AGRDLTDYLMKILTERGYSFTTTAEREIVRDIKEKLCYVALDFEQEMATAASSSSLEKSY\\\n",
    "ELPDGQVITIGNERFRCPEALFQPSFLGMESCGIHETTFNSIMKCDVDIRKDLYANTVLS\\\n",
    "GGTTMYPGIADRMQKEITALAPSTMKIKIIAPPERKYSVWIGGSILASLSTFQQMWISKQ\\\n",
    "EYDESGPSIVHRKCF', 'ACTB', 'cytoplasmic 1']"
   ]
  },
  {
   "cell_type": "code",
   "execution_count": 18,
   "metadata": {},
   "outputs": [],
   "source": [
    "proteins.loc[11] = ['MEEEIAALVIDNGSGMCKAGFAGDDAPRAVFPSIVGRPRHQGVMVGMGQKDSYVGDEAQS\\\n",
    "KRGILTLKYPIEHGIVTNWDDMEKIWHHTFYNELRVAPEEHPVLLTEAPLNPKANREKMT\\\n",
    "QIMFETFNTPAMYVAIQAVLSLYASGRTTGIVMDSGDGVTHTVPIYEGYALPHAILRLDL\\\n",
    "AGRDLTDYLMKILTERGYSFTTTAEREIVRDIKEKLCYVALDFEQEMATAASSSSLEKSY\\\n",
    "ELPDGQVITIGNERFRCPEALFQPSFLGMESCGIHETTFNSIMKCDVDIRKDLYANTVLS\\\n",
    "GGTTMYPGIADRMQKEITALAPSTMKIKIIAPPERKYSVWIGGSILASLSTFQQMWISKQ\\\n",
    "EYDESGPSIVHRKCF', 'ACTG1', 'cytoplasmic 2']"
   ]
  },
  {
   "cell_type": "code",
   "execution_count": 19,
   "metadata": {},
   "outputs": [],
   "source": [
    "proteins.loc[12] = ['MTSPCSPPLKPPISPPKTPVPQASSIPSPPLPPSPLDFSALPSPPWSQQTPVPPPLPLPP\\\n",
    "PPAATGPAPRHVFGLEKSQLLKEAFDKAGPVPKGREDVKRLLKLHKDRFRGDLRWILFCA\\\n",
    "DLPSLIQEGPQCGLVALWMAGTLLSPPSGVPLERLIRVATERGYTAQGEMFSVADMGRLA\\\n",
    "QEVLGCQAKLLSGGLGGPNRDLVLQHLVTGHPLLIPYDEDFNHEPCQRKGHKAHWAVSAG\\\n",
    "VLLGVRAVPSLGYTEDPELPGLFHPVLGTPCQPPSLPEEGSPGAVYLLSKQGKSWHYQLW\\\n",
    "DYDQVRESNLQLTDFSPSRATDGRVYVVPVGGVRAGLCGQALLLTPQDCSH', 'ACTMAP', 'Actin maturation protease']"
   ]
  },
  {
   "cell_type": "markdown",
   "metadata": {},
   "source": [
    "### Add Histones proteins in human body"
   ]
  },
  {
   "cell_type": "code",
   "execution_count": 20,
   "metadata": {},
   "outputs": [],
   "source": [
    "proteins.loc[13] = ['MDISTRSKDPGSAERTAQKRKFPSPPHSSNGHSPQDTSTSPIKKKKKPGLLNSNNKEQSE\\\n",
    "LRHGPFYYMKQPLTTDPVDVVPQDGRNDFYCWVCHREGQVLCCELCPRVYHAKCLRLTSE\\\n",
    "PEGDWFCPECEKITVAECIETQSKAMTMLTIEQLSYLLKFAIQKMKQPGTDAFQKPVPLE\\\n",
    "QHPDYAEYIFHPMDLCTLEKNAKKKMYGCTEAFLADAKWILHNCIIYNGGNHKLTQIAKV\\\n",
    "VIKICEHEMNEIEVCPECYLAACQKRDNWFCEPCSNPHPLVWAKLKGFPFWPAKALRDKD\\\n",
    "GQVDARFFGQHDRAWVPINNCYLMSKEIPFSVKKTKSIFNSAMQEMEVYVENIRRKFGVF\\\n",
    "NYSPFRTPYTPNSQYQMLLDPTNPSAGTAKIDKQEKVKLNFDMTASPKILMSKPVLSGGT\\\n",
    "GRRISLSDMPRSPMSTNSSVHTGSDVEQDAEKKATSSHFSASEESMDFLDKSTASPASTK\\\n",
    "TGQAGSLSGSPKPFSPQLSAPITTKTDKTSTTGSILNLNLDRSKAEMDLKELSESVQQQS\\\n",
    "TPVPLISPKRQIRSRFQLNLDKTIESCKAQLGINEISEDVYTAVEHSDSEDSEKSDSSDS\\\n",
    "EYISDDEQKSKNEPEDTEDKEGCQMDKEPSAVKKKPKPTNPVEIKEELKSTSPASEKADP\\\n",
    "GAVKDKASPEPEKDFSEKAKPSPHPIKDKLKGKDETDSPTVHLGLDSDSESELVIDLGED\\\n",
    "HSGREGRKNKKEPKEPSPKQDVVGKTPPSTTVGSHSPPETPVLTRSSAQTSAAGATATTS\\\n",
    "TSSTVTVTAPAPAATGSPVKKQRPLLPKETAPAVQRVVWNSSSKFQTSSQKWHMQKMQRQ\\\n",
    "QQQQQQQNQQQQPQSSQGTRYQTRQAVKAVQQKEITQSPSTSTITLVTSTQSSPLVTSSG\\\n",
    "SMSTLVSSVNADLPIATASADVAADIAKYTSKMMDAIKGTMTEIYNDLSKNTTGSTIAEI\\\n",
    "RRLRIEIEKLQWLHQQELSEMKHNLELTMAEMRQSLEQERDRLIAEVKKQLELEKQQAVD\\\n",
    "ETKKKQWCANCKKEAIFYCCWNTSYCDYPCQQAHWPEHMKSCTQSATAPQQEADAEVNTE\\\n",
    "TLNKSSQGSSSSTQSAPSETASASKEKETSAEKSKESGSTLDLSGSRETPSSILLGSNQG\\\n",
    "SDHSRSNKSSWSSSDEKRGSTRSDHNTSTSTKSLLPKESRLDTFWD', 'ZMYND8', 'MYND-type zinc finger-containing chromatin reader ZMYND8']"
   ]
  },
  {
   "cell_type": "code",
   "execution_count": 21,
   "metadata": {},
   "outputs": [],
   "source": [
    "proteins.loc[14] = ['MAESSESFTMASSPAQRRRGNDPLTSSPGRSSRRTDALTSSPGRDLPPFEDESEGLLGTE\\\n",
    "GPLEEEEDGEELIGDGMERDYRAIPELDAYEAEGLALDDEDVEELTASQREAAERAMRQR\\\n",
    "DREAGRGLGRMRRGLLYDSDEEDEERPARKRRQVERATEDGEEDEEMIESIENLEDLKGH\\\n",
    "SVREWVSMAGPRLEIHHRFKNFLRTHVDSHGHNVFKERISDMCKENRESLVVNYEDLAAR\\\n",
    "EHVLAYFLPEAPAELLQIFDEAALEVVLAMYPKYDRITNHIHVRISHLPLVEELRSLRQL\\\n",
    "HLNQLIRTSGVVTSCTGVLPQLSMVKYNCNKCNFVLGPFCQSQNQEVKPGSCPECQSAGP\\\n",
    "FEVNMEETIYQNYQRIRIQESPGKVAAGRLPRSKDAILLADLVDSCKPGDEIELTGIYHN\\\n",
    "NYDGSLNTANGFPVFATVILANHVAKKDNKVAVGELTDEDVKMITSLSKDQQIGEKIFAS\\\n",
    "IAPSIYGHEDIKRGLALALFGGEPKNPGGKHKVRGDINVLLCGDPGTAKSQFLKYIEKVS\\\n",
    "SRAIFTTGQGASAVGLTAYVQRHPVSREWTLEAGALVLADRGVCLIDEFDKMNDQDRTSI\\\n",
    "HEAMEQQSISISKAGIVTSLQARCTVIAAANPIGGRYDPSLTFSENVDLTEPIISRFDIL\\\n",
    "CVVRDTVDPVQDEMLARFVVGSHVRHHPSNKEEEGLANGSAAEPAMPNTYGVEPLPQEVL\\\n",
    "KKYIIYAKERVHPKLNQMDQDKVAKMYSDLRKESMATGSIPITVRHIESMIRMAEAHARI\\\n",
    "HLRDYVIEDDVNMAIRVMLESFIDTQKFSVMRSMRKTFARYLSFRRDNNELLLFILKQLV\\\n",
    "AEQVTYQRNRFGAQQDTIEVPEKDLVDKARQINIHNLSAFYDSELFRMNKFSHDLKRKMI\\\n",
    "LQQF', 'MCM2', 'DNA replication licensing factor MCM2']"
   ]
  },
  {
   "cell_type": "code",
   "execution_count": 22,
   "metadata": {},
   "outputs": [],
   "source": [
    "proteins.loc[15] = ['MAKVQVNNVVVLDNPSPFYNPFQFEITFECIEDLSEDLEWKIIYVGSAESEEYDQVLDSV\\\n",
    "LVGPVPAGRHMFVFQADAPNPGLIPDADAVGVTVVLITCTYRGQEFIRVGYYVNNEYTET\\\n",
    "ELRENPPVKPDFSKLQRNILASNPRVTRFHINWEDNTEKLEDAESSNPNLQSLLSTDALP\\\n",
    "SASKGWSTSENSLNVMLESHMDCM', 'ASF1A', 'Histone chaperone ASF1A']"
   ]
  },
  {
   "cell_type": "code",
   "execution_count": 23,
   "metadata": {},
   "outputs": [],
   "source": [
    "proteins.loc[16] = ['MSGGFELQPRDGGPRVALAPGETVIGRGPLLGITDKRVSRRHAILEVAGGQLRIKPIHTN\\\n",
    "PCFYQSSEKSQLLPLKPNLWCYLNPGDSFSLLVDKYIFRILSIPSEVEMQCTLRNSQVLD\\\n",
    "EDNILNETPKSPVINLPHETTGASQLEGSTEIAKTQMTPTNSVSFLGENRDCNKQQPILA\\\n",
    "ERKRILPTWMLAEHLSDQNLSVPAISGGNVIQGSGKEEICKDKSQLNTTQQGRRQLISSG\\\n",
    "SSENTSAEQDTGEECKNTDQEESTISSKEMPQSFSAITLSNTEMNNIKTNAQRNKLPIEE\\\n",
    "LGKVSKHKIATKRTPHKEDEAMSCSENCSSAQGDSLQDESQGSHSESSSNPSNPETLHAK\\\n",
    "ATDSVLQGSEGNKVKRTSCMYGANCYRKNPVHFQHFSHPGDSDYGGVQIVGQDETDDRPE\\\n",
    "CPYGPSCYRKNPQHKIEYRHNTLPVRNVLDEDNDNVGQPNEYDLNDSFLDDEEEDYEPTD\\\n",
    "EDSDWEPGKEDEEKEDVEELLKEAKRFMKRK', 'APLF', 'Aprataxin and PNK-like factor']"
   ]
  },
  {
   "cell_type": "code",
   "execution_count": 24,
   "metadata": {},
   "outputs": [],
   "source": [
    "proteins.loc[17] = ['MAKVSVLNVAVLENPSPFHSPFRFEISFECSEALADDLEWKIIYVGSAESEEFDQILDSV\\\n",
    "LVGPVPAGRHMFVFQADAPNPSLIPETDAVGVTVVLITCTYHGQEFIRVGYYVNNEYLNP\\\n",
    "ELRENPPMKPDFSQLQRNILASNPRVTRFHINWDNNMDRLEAIETQDPSLGCGLPLNCTP\\\n",
    "IKGLGLPGCIPGLLPENSMDCI', 'ASF1B', 'Histone chaperone ASF1B']"
   ]
  },
  {
   "cell_type": "code",
   "execution_count": 25,
   "metadata": {},
   "outputs": [],
   "source": [
    "proteins.loc[18] = ['MGLLDLCEEVFGTADLYRVLGVRREASDGEVRRGYHKVSLQVHPDRVGEGDKEDATRRFQ\\\n",
    "ILGKVYSVLSDREQRAVYDEQGTVDEDSPVLTQDRDWEAYWRLLFKKISLEDIQAFEKTY\\\n",
    "KGSEEELADIKQAYLDFKGDMDQIMESVLCVQYTEEPRIRNIIQQAIDAGEVPSYNAFVK\\\n",
    "ESKQKMNARKRRAQEEAKEAEMSRKELGLDEGVDSLKAAIQSRQKDRQKEMDNFLAQMEA\\\n",
    "KYCKSSKGGGKKSALKKEKK', 'DNAJC9', 'DnaJ homolog subfamily C member 9']"
   ]
  },
  {
   "cell_type": "code",
   "execution_count": 26,
   "metadata": {
    "tags": []
   },
   "outputs": [
    {
     "data": {
      "text/html": [
       "<div>\n",
       "<style scoped>\n",
       "    .dataframe tbody tr th:only-of-type {\n",
       "        vertical-align: middle;\n",
       "    }\n",
       "\n",
       "    .dataframe tbody tr th {\n",
       "        vertical-align: top;\n",
       "    }\n",
       "\n",
       "    .dataframe thead th {\n",
       "        text-align: right;\n",
       "    }\n",
       "</style>\n",
       "<table border=\"1\" class=\"dataframe\">\n",
       "  <thead>\n",
       "    <tr style=\"text-align: right;\">\n",
       "      <th></th>\n",
       "      <th>amino acid</th>\n",
       "      <th>gene</th>\n",
       "      <th>protein</th>\n",
       "    </tr>\n",
       "  </thead>\n",
       "  <tbody>\n",
       "    <tr>\n",
       "      <th>0</th>\n",
       "      <td>MVHLTPEEKSAVTALWGKVNVDEVGGEALGRLLVVYPWTQRFFESF...</td>\n",
       "      <td>HBB</td>\n",
       "      <td>Hemoglobin subunit beta</td>\n",
       "    </tr>\n",
       "    <tr>\n",
       "      <th>1</th>\n",
       "      <td>MVHLTPEEKTAVNALWGKVNVDAVGGEALGRLLVVYPWTQRFFESF...</td>\n",
       "      <td>HBD</td>\n",
       "      <td>Hemoglobin subunit delta</td>\n",
       "    </tr>\n",
       "    <tr>\n",
       "      <th>2</th>\n",
       "      <td>MVHFTAEEKAAVTSLWSKMNVEEAGGEALGRLLVVYPWTQRFFDSF...</td>\n",
       "      <td>HBE1</td>\n",
       "      <td>Hemoglobin subunit epsilon</td>\n",
       "    </tr>\n",
       "    <tr>\n",
       "      <th>3</th>\n",
       "      <td>MSLTKTERTIIVSMWAKISTQADTIGTETLERLFLSHPQTKTYFPH...</td>\n",
       "      <td>HBZ</td>\n",
       "      <td>Hemoglobin subunit zeta</td>\n",
       "    </tr>\n",
       "    <tr>\n",
       "      <th>4</th>\n",
       "      <td>MGHFTEEDKATITSLWGKVNVEDAGGETLGRLLVVYPWTQRFFDSF...</td>\n",
       "      <td>HBG2</td>\n",
       "      <td>Hemoglobin subunit gamma-2</td>\n",
       "    </tr>\n",
       "  </tbody>\n",
       "</table>\n",
       "</div>"
      ],
      "text/plain": [
       "                                          amino acid  gene  \\\n",
       "0  MVHLTPEEKSAVTALWGKVNVDEVGGEALGRLLVVYPWTQRFFESF...   HBB   \n",
       "1  MVHLTPEEKTAVNALWGKVNVDAVGGEALGRLLVVYPWTQRFFESF...   HBD   \n",
       "2  MVHFTAEEKAAVTSLWSKMNVEEAGGEALGRLLVVYPWTQRFFDSF...  HBE1   \n",
       "3  MSLTKTERTIIVSMWAKISTQADTIGTETLERLFLSHPQTKTYFPH...   HBZ   \n",
       "4  MGHFTEEDKATITSLWGKVNVEDAGGETLGRLLVVYPWTQRFFDSF...  HBG2   \n",
       "\n",
       "                      protein  \n",
       "0     Hemoglobin subunit beta  \n",
       "1    Hemoglobin subunit delta  \n",
       "2  Hemoglobin subunit epsilon  \n",
       "3     Hemoglobin subunit zeta  \n",
       "4  Hemoglobin subunit gamma-2  "
      ]
     },
     "execution_count": 26,
     "metadata": {},
     "output_type": "execute_result"
    }
   ],
   "source": [
    "proteins.head()"
   ]
  },
  {
   "cell_type": "code",
   "execution_count": 27,
   "metadata": {},
   "outputs": [],
   "source": [
    "def get_seq(aa_col):\n",
    "    '''\n",
    "    function to get the sequence of amino acids which proteins in human body are made by\n",
    "    input: the column of amino acids\n",
    "    output: string of concatanation of all sequences of amino acids\n",
    "    '''\n",
    "    aa_seq = ''\n",
    "    for each_aa in aa_col:\n",
    "        aa_seq += each_aa\n",
    "    return aa_seq"
   ]
  },
  {
   "cell_type": "code",
   "execution_count": 28,
   "metadata": {},
   "outputs": [],
   "source": [
    "def vocab(sequence):\n",
    "    '''\n",
    "    function to build the vocabulary\n",
    "    input: str, a sequence\n",
    "    output: list, list of unique character in the sequence\n",
    "    '''\n",
    "    chars = sorted(list(set(sequence))) # unique character in the sequence\n",
    "    vocab_size = len(chars) # the length of unique characters\n",
    "    return chars, vocab_size"
   ]
  },
  {
   "cell_type": "code",
   "execution_count": 29,
   "metadata": {},
   "outputs": [],
   "source": [
    "def tokenizer(chars, sequence):\n",
    "    '''\n",
    "    character-level function to tokenize unique character in the sequence\n",
    "    input: list, list of unique character in the sequence\n",
    "    output: tensor, encoded unique charcters into a tensor\n",
    "    '''    \n",
    "    chtoi = {char: ind for ind, char in enumerate(chars)} # character to integer-for encoder part\n",
    "    itoch = {ind:char for ind, char in enumerate(chars)} # integer to character-for decoder part\n",
    "    encode = lambda text: [chtoi[char] for char in text] # encoder function\n",
    "    tokenized_data = torch.tensor(encode(sequence), dtype = torch.int64)\n",
    "    return tokenized_data\n",
    "\n",
    "decode = lambda en_list: ''.join(itoch[integer] for integer in en_list) # decoder function"
   ]
  },
  {
   "cell_type": "code",
   "execution_count": 30,
   "metadata": {},
   "outputs": [],
   "source": [
    "def split(tokenized_data):\n",
    "    '''\n",
    "    function to split data into train and validation set\n",
    "    input: tensor, data\n",
    "    output: 2 tensors, train set and validation set\n",
    "    '''\n",
    "    train_len = int(len(tokenized_data)*0.9)\n",
    "    train_set = tokenized_data[:train_len] #90% of data -> train set\n",
    "    val_set = tokenized_data[train_len:] #10% of data -> validation set\n",
    "    return train_set, val_set"
   ]
  },
  {
   "cell_type": "code",
   "execution_count": 31,
   "metadata": {},
   "outputs": [],
   "source": [
    "def get_data():\n",
    "    '''\n",
    "    function to get the data, train and validation set\n",
    "    input: None\n",
    "    output: 2 tensors, train set and validation set\n",
    "    '''\n",
    "    aa_col = proteins['amino acid']\n",
    "    sequence = get_seq(aa_col)\n",
    "    chars, vocab_size = vocab(sequence) # vocab size is \n",
    "    tokenized_data = tokenizer(chars, sequence)\n",
    "    train_set, val_set = split(tokenized_data)\n",
    "    return train_set, val_set, chars"
   ]
  },
  {
   "cell_type": "markdown",
   "metadata": {},
   "source": [
    "### just an example of how block_size works "
   ]
  },
  {
   "cell_type": "code",
   "execution_count": 32,
   "metadata": {},
   "outputs": [
    {
     "name": "stdout",
     "output_type": "stream",
     "text": [
      "the input is tensor([10]) the target: 17\n",
      "the input is tensor([10, 17]) the target: 6\n",
      "the input is tensor([10, 17,  6]) the target: 9\n",
      "the input is tensor([10, 17,  6,  9]) the target: 16\n",
      "the input is tensor([10, 17,  6,  9, 16]) the target: 12\n",
      "the input is tensor([10, 17,  6,  9, 16, 12]) the target: 3\n",
      "the input is tensor([10, 17,  6,  9, 16, 12,  3]) the target: 3\n",
      "the input is tensor([10, 17,  6,  9, 16, 12,  3,  3]) the target: 8\n"
     ]
    }
   ],
   "source": [
    "# block_size is the length of sequence that we train the model with\n",
    "block_size = 8\n",
    "train_set, val_set, vocab_size = get_data()\n",
    "x = train_set[0:block_size] # input data, chunk of the data with the length of block_size\n",
    "y = train_set[1:block_size+1] # target for each of the tokens in the input data\n",
    "n = 0\n",
    "n += block_size\n",
    "for i in range(block_size):\n",
    "    print('the input is {0} the target: {1}'.format(x[:i+1], y[i]))"
   ]
  },
  {
   "cell_type": "code",
   "execution_count": 33,
   "metadata": {},
   "outputs": [],
   "source": [
    "# block_size is the length of sequence that we train the model with\n",
    "# batch is the number of block_sized data that are processed in parallel \n",
    "def get_batch(split):\n",
    "    '''\n",
    "    batch is the number of block_sized data that are processed in parallel \n",
    "    input: str, batch for train or validation\n",
    "    output: tensor, 2 tensors stacked with randomly chosen block_sized input and corresponding target data \n",
    "    '''\n",
    "    batch_size = 4\n",
    "    block_size = 8\n",
    "    if split == 'train_set':\n",
    "        data = train_set\n",
    "    elif split == 'val_set':\n",
    "        data = valid_set\n",
    "    # generate 4 random indexes since we want to pick 4 (batch size) block_sized data randomly\n",
    "    ind = torch.randint(len(data) - block_size, (batch_size, ))\n",
    "    # x stack with all randomly chosen input block_sized data \n",
    "    x = torch.stack([data[i:i+block_size] for i in ind])\n",
    "    # y stack with all targets for all randomly chosen input block_sized data \n",
    "    y = torch.stack([data[i+1:i+block_size+1] for i in ind])\n",
    "    return x, y"
   ]
  },
  {
   "cell_type": "code",
   "execution_count": 36,
   "metadata": {},
   "outputs": [
    {
     "data": {
      "text/plain": [
       "['A',\n",
       " 'C',\n",
       " 'D',\n",
       " 'E',\n",
       " 'F',\n",
       " 'G',\n",
       " 'H',\n",
       " 'I',\n",
       " 'K',\n",
       " 'L',\n",
       " 'M',\n",
       " 'N',\n",
       " 'P',\n",
       " 'Q',\n",
       " 'R',\n",
       " 'S',\n",
       " 'T',\n",
       " 'V',\n",
       " 'W',\n",
       " 'Y']"
      ]
     },
     "execution_count": 36,
     "metadata": {},
     "output_type": "execute_result"
    }
   ],
   "source": [
    "train_set, val_set, vocab_size = get_data()\n",
    "x, y = get_batch('train_set')\n",
    "vocab_size"
   ]
  },
  {
   "cell_type": "markdown",
   "metadata": {},
   "source": [
    "### Simple Bigram Language Model"
   ]
  },
  {
   "cell_type": "code",
   "execution_count": 35,
   "metadata": {},
   "outputs": [
    {
     "name": "stdout",
     "output_type": "stream",
     "text": [
      "Epoch 1/10, Loss: 2.9921\n",
      "Epoch 2/10, Loss: 2.8812\n",
      "Epoch 3/10, Loss: 2.7847\n",
      "Epoch 4/10, Loss: 2.6946\n",
      "Epoch 5/10, Loss: 2.6079\n",
      "Epoch 6/10, Loss: 2.5230\n",
      "Epoch 7/10, Loss: 2.4385\n",
      "Epoch 8/10, Loss: 2.3540\n",
      "Epoch 9/10, Loss: 2.2677\n",
      "Epoch 10/10, Loss: 2.1801\n"
     ]
    }
   ],
   "source": [
    "# define class object of bigram language model\n",
    "# this bigram language model has 3 layers, an embedding layer, a fully connected layer (with a ReLU activation function), and another fully connected layer\n",
    "class BigramLanguageModel(nn.Module):\n",
    "    def __init__(self, vocab_size, embedding_size, hidden_size): # this function is called everytime an instance of bigram language model is created\n",
    "        super().__init__()\n",
    "        self.embedding = nn.Embedding(vocab_size, embedding_size) \n",
    "        self.fc1 = nn.Linear(embedding_size, hidden_size)\n",
    "        self.fc2 = nn.Linear(hidden_size, vocab_size)\n",
    "\n",
    "    def forward(self, x): # how the input data should be passed through model\n",
    "        x = self.embedding(x)\n",
    "        x = torch.mean(x, dim=1)  \n",
    "        x = torch.relu(self.fc1(x))\n",
    "        x = self.fc2(x)\n",
    "        return x\n",
    "\n",
    "def generate_text(model, vocab_size, start_token, length): # generate new tokens based on given tokens, keep in mind the model hasn't been given enough data. its just a sample generator\n",
    "    generated_text = [start_token]\n",
    "    x = torch.tensor([start_token])\n",
    "    for i in range(length):\n",
    "        scores = model(x)\n",
    "        prob = nn.functional.softmax(scores, dim=-1) # softmax function tries to predict what will be likely the next token in a sequence\n",
    "        x = torch.multinomial(prob, 1)\n",
    "        generated_text.append(x.item())\n",
    "    generated_text = [chr(ord('A')+i) for i in generated_text]  \n",
    "    return ''.join(generated_text)\n",
    "\n",
    "def train(model, x, y, num_epochs, learning_rate): # train the modell. here we have only 4 batch and each block-size is 8. so, in total we have 32 tokens chosen randomly as input tokens and 32 corresponding target tokens\n",
    "    optimizer = torch.optim.Adam(model.parameters(), lr=learning_rate) # adam optimizer from torch library to mimizie the loss function\n",
    "    criterion = nn.CrossEntropyLoss() \n",
    "    for epoch in range(num_epochs):\n",
    "        optimizer.zero_grad()\n",
    "        scores = model(x)\n",
    "        loss = criterion(scores.view(-1, vocab_size), y.view(-1))\n",
    "        loss.backward()\n",
    "        optimizer.step()\n",
    "        print(f\"Epoch {epoch+1}/{num_epochs}, Loss: {loss.item():.4f}\")\n",
    "\n",
    "vocab_size = 20 # it has a fairly small vocab size \n",
    "embedding_size = 32\n",
    "hidden_size = 64\n",
    "model = BigramLanguageModel(vocab_size, embedding_size, hidden_size)\n",
    "\n",
    "x = torch.randint(low=0, high=vocab_size, size=(128, 2))\n",
    "y = torch.randint(low=0, high=vocab_size, size=(128,))\n",
    "\n",
    "train(model, x, y, num_epochs=10, learning_rate=0.01) # train the model for 10 epoch and calculate loss "
   ]
  }
 ],
 "metadata": {
  "kernelspec": {
   "display_name": "protein",
   "language": "python",
   "name": "protein"
  },
  "language_info": {
   "codemirror_mode": {
    "name": "ipython",
    "version": 3
   },
   "file_extension": ".py",
   "mimetype": "text/x-python",
   "name": "python",
   "nbconvert_exporter": "python",
   "pygments_lexer": "ipython3",
   "version": "3.8.10"
  }
 },
 "nbformat": 4,
 "nbformat_minor": 4
}
